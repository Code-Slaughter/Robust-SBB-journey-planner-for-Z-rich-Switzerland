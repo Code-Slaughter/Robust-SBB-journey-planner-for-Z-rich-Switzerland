{
 "cells": [
  {
   "cell_type": "markdown",
   "id": "da4cf47b-ad36-49d4-979c-fdbdc31ff0b2",
   "metadata": {},
   "source": [
    "# Choose stops locally"
   ]
  },
  {
   "cell_type": "code",
   "execution_count": null,
   "id": "52ae8bcc-ec65-4105-a641-f6de18b0ffc6",
   "metadata": {},
   "outputs": [],
   "source": [
    "%%local\n",
    "import pandas as pd\n",
    "import plotly.express as px\n",
    "import plotly.graph_objects as go\n",
    "import ipywidgets as widgets\n",
    "from ipywidgets import HBox, VBox\n",
    "\n",
    "stops = pd.read_csv('stops_main.csv')\n",
    "stops = stops.drop(['Unnamed: 0'], axis=1)\n",
    "stops = stops.rename(columns={\"main_id\": \"stop_id\"})\n",
    "stop_list = stops['stop_name'].tolist()\n",
    "stop_list.sort()\n",
    "\n",
    "token = \"pk.eyJ1IjoiY29jb251dG51dCIsImEiOiJjbDNscTZhbHowMmxtM2pwajl3Yjd1ejF0In0.PXbwkPmWYXrAhQsus3ypVA\""
   ]
  },
  {
   "cell_type": "code",
   "execution_count": 2,
   "id": "f37171c0-57f2-45a6-abaf-98a0d1122a45",
   "metadata": {},
   "outputs": [],
   "source": [
    "%%local\n",
    "# figure\n",
    "layout = dict(hovermode='closest',\n",
    "    margin=dict(l=0, t=0, r=0, b=0, pad=0),\n",
    "    mapbox=dict(\n",
    "        accesstoken=token,\n",
    "        bearing=0,\n",
    "        center=go.layout.mapbox.Center(\n",
    "            lat=47.378177,\n",
    "            lon=8.540192\n",
    "        ),\n",
    "        pitch=0,\n",
    "        zoom=10\n",
    "    ))\n",
    "\n",
    "data_all = go.Scattermapbox(\n",
    "        lat=stops['stop_lat'].tolist(),\n",
    "        lon=stops['stop_lon'].tolist(),\n",
    "        mode='markers',\n",
    "        marker=go.scattermapbox.Marker(\n",
    "            size=5\n",
    "        ),\n",
    "        text=stops['stop_name'].tolist()\n",
    "    )\n",
    "\n",
    "data_choose1 = go.Scattermapbox(\n",
    "        lat=[],\n",
    "        lon=[],\n",
    "        mode='markers',\n",
    "        marker=go.scattermapbox.Marker(\n",
    "            size=10,\n",
    "            color='red'\n",
    "        ),\n",
    "        text=[]\n",
    "    )\n",
    "\n",
    "data_choose2 = go.Scattermapbox(\n",
    "        lat=[],\n",
    "        lon=[],\n",
    "        mode='markers',\n",
    "        marker=go.scattermapbox.Marker(\n",
    "            size=10,\n",
    "            color='green'\n",
    "        ),\n",
    "        text=[]\n",
    "    )\n",
    "\n",
    "figure = go.FigureWidget(data=[data_all, data_choose1, data_choose2], layout=layout)\n",
    "\n",
    "# update function\n",
    "def f1(a):\n",
    "    # get stop lat and lon\n",
    "    stop_data = stops[stops['stop_name'] == a]\n",
    "    # get other stop info\n",
    "    stop_id = int(stop_data['stop_id'])\n",
    "    stop_lat = float(stop_data['stop_lat'])\n",
    "    stop_lon = float(stop_data['stop_lon'])  \n",
    "    # update figure\n",
    "    with figure.batch_update():\n",
    "        figure.data[1].lat = [stop_lat]\n",
    "        figure.data[1].lon = [stop_lon]\n",
    "        figure.data[1].text = [a] \n",
    "    print('Start:{} ({},{})'.format(stop_id, stop_lat, stop_lon))\n",
    "        \n",
    "def f2(a):\n",
    "    # get stop lat and lon\n",
    "    stop_data = stops[stops['stop_name'] == a]\n",
    "    # get other stop info\n",
    "    stop_id = int(stop_data['stop_id'])\n",
    "    stop_lat = float(stop_data['stop_lat'])\n",
    "    stop_lon = float(stop_data['stop_lon'])    \n",
    "    # update figure\n",
    "    with figure.batch_update():\n",
    "        figure.data[2].lat = [stop_lat]\n",
    "        figure.data[2].lon = [stop_lon]\n",
    "        figure.data[2].text = [a]\n",
    "    print('End:{} ({},{})'.format(stop_id, stop_lat, stop_lon))\n",
    "        \n",
    "# widget\n",
    "choose_stop1 = widgets.Dropdown(\n",
    "    description='Start:',\n",
    "    options=stop_list\n",
    ")\n",
    "\n",
    "choose_stop2 = widgets.Dropdown(\n",
    "    description='End:',\n",
    "    options=stop_list\n",
    ")\n",
    "\n",
    "out1 = widgets.interactive_output(f1, {'a': choose_stop1})\n",
    "out2 = widgets.interactive_output(f2, {'a': choose_stop2})"
   ]
  },
  {
   "cell_type": "code",
   "execution_count": 3,
   "id": "63378702-0ba1-4734-8543-477810f69422",
   "metadata": {},
   "outputs": [
    {
     "data": {
      "application/vnd.jupyter.widget-view+json": {
       "model_id": "b45b999667d64795a633a2e4cce7d59c",
       "version_major": 2,
       "version_minor": 0
      },
      "text/plain": [
       "VBox(children=(FigureWidget({\n",
       "    'data': [{'lat': [47.351677, 47.423626, 47.451023, ..., 47.44446, 47.399006,…"
      ]
     },
     "metadata": {},
     "output_type": "display_data"
    }
   ],
   "source": [
    "%%local\n",
    "# display\n",
    "VBox([figure, HBox([choose_stop1, choose_stop2]), out1, out2])"
   ]
  },
  {
   "cell_type": "markdown",
   "id": "63937d5b-bad3-429c-b79e-cf6c54739e4b",
   "metadata": {},
   "source": [
    "# Send input to spark"
   ]
  },
  {
   "cell_type": "code",
   "execution_count": 8,
   "id": "414338c1-8a82-4cd2-bd0b-f3752b08ab5c",
   "metadata": {},
   "outputs": [],
   "source": [
    "%%local\n",
    "start_id = int(stops[stops['stop_name'] == choose_stop1.value]['stop_id'])\n",
    "end_id = int(stops[stops['stop_name'] == choose_stop2.value]['stop_id'])\n",
    "\n",
    "d = {'data': [start_id, end_id]}\n",
    "input_df = pd.DataFrame(data=d)"
   ]
  },
  {
   "cell_type": "code",
   "execution_count": 9,
   "id": "d289f5ee-7f99-47a2-92d1-1db46491e69e",
   "metadata": {},
   "outputs": [
    {
     "data": {
      "application/vnd.jupyter.widget-view+json": {
       "model_id": "",
       "version_major": 2,
       "version_minor": 0
      },
      "text/plain": [
       "FloatProgress(value=0.0, bar_style='info', description='Progress:', layout=Layout(height='25px', width='50%'),…"
      ]
     },
     "metadata": {},
     "output_type": "display_data"
    },
    {
     "name": "stdout",
     "output_type": "stream",
     "text": [
      "Successfully passed 'input_df' as 'input_df' to Spark kernel"
     ]
    }
   ],
   "source": [
    "%%send_to_spark -i input_df -t df -n input_df"
   ]
  },
  {
   "cell_type": "code",
   "execution_count": 31,
   "id": "72cd5c06-dcbe-42c8-a427-98d6ce6152fb",
   "metadata": {},
   "outputs": [
    {
     "data": {
      "application/vnd.jupyter.widget-view+json": {
       "model_id": "",
       "version_major": 2,
       "version_minor": 0
      },
      "text/plain": [
       "FloatProgress(value=0.0, bar_style='info', description='Progress:', layout=Layout(height='25px', width='50%'),…"
      ]
     },
     "metadata": {},
     "output_type": "display_data"
    },
    {
     "name": "stdout",
     "output_type": "stream",
     "text": [
      "8576253"
     ]
    }
   ],
   "source": [
    "input_list = input_df.collect()\n",
    "start_id = input_list[0].data\n",
    "end_id = input_list[1].data"
   ]
  },
  {
   "cell_type": "markdown",
   "id": "d60f166d-73e8-4186-ae27-ca5a057ad101",
   "metadata": {},
   "source": [
    "# Process on spark"
   ]
  },
  {
   "cell_type": "code",
   "execution_count": 32,
   "id": "151870a3-6d3e-4d8b-ac2d-bdeed5bcf0ec",
   "metadata": {},
   "outputs": [
    {
     "data": {
      "application/vnd.jupyter.widget-view+json": {
       "model_id": "",
       "version_major": 2,
       "version_minor": 0
      },
      "text/plain": [
       "FloatProgress(value=0.0, bar_style='info', description='Progress:', layout=Layout(height='25px', width='50%'),…"
      ]
     },
     "metadata": {},
     "output_type": "display_data"
    },
    {
     "name": "stdout",
     "output_type": "stream",
     "text": [
      "+--------------+------+----------------+-------------------+------------------+-------------------+--------+---------+---------+--------+-------+\n",
      "|       trip_id|failed|arrival_schedule|     arrival_actual|departure_schedule|   departure_actual|not_stop|stop_name| stop_lat|stop_lon|stop_id|\n",
      "+--------------+------+----------------+-------------------+------------------+-------------------+--------+---------+---------+--------+-------+\n",
      "|  85:11:10:001| false|13.05.2019 21:50|13.05.2019 21:53:09|              null|               null|   false|Zürich HB|47.378178|8.540212|8503000|\n",
      "|85:11:1007:001| false|13.05.2019 06:23|13.05.2019 06:22:53|              null|               null|   false|Zürich HB|47.378178|8.540212|8503000|\n",
      "|85:11:1009:001| false|13.05.2019 07:23|13.05.2019 07:25:04|              null|               null|   false|Zürich HB|47.378178|8.540212|8503000|\n",
      "|85:11:1011:001| false|13.05.2019 08:23|13.05.2019 08:23:24|              null|               null|   false|Zürich HB|47.378178|8.540212|8503000|\n",
      "|  85:11:11:001| false|            null|               null|  13.05.2019 06:10|13.05.2019 06:11:29|   false|Zürich HB|47.378178|8.540212|8503000|\n",
      "+--------------+------+----------------+-------------------+------------------+-------------------+--------+---------+---------+--------+-------+\n",
      "only showing top 5 rows"
     ]
    }
   ],
   "source": [
    "actual_data_513 = spark.read.option(\"header\",True).csv('/user/sixu/work/actual_data_513.csv')"
   ]
  },
  {
   "cell_type": "code",
   "execution_count": 33,
   "id": "43e9a516-8982-4177-b29c-8af6f5d0bf2b",
   "metadata": {},
   "outputs": [
    {
     "data": {
      "application/vnd.jupyter.widget-view+json": {
       "model_id": "",
       "version_major": 2,
       "version_minor": 0
      },
      "text/plain": [
       "FloatProgress(value=0.0, bar_style='info', description='Progress:', layout=Layout(height='25px', width='50%'),…"
      ]
     },
     "metadata": {},
     "output_type": "display_data"
    }
   ],
   "source": [
    "def direct_routes(df, stop_id1, stop_id2, arrival_time):\n",
    "    '''\n",
    "    Start from stop_id1\n",
    "    End to stop_id2 before arrival_time\n",
    "    '''\n",
    "    ## 不同时间的同一路经trip id 不一样！\n",
    "    # 所有过stop_id1的trips, 出发时间 < 规定到达时间\n",
    "    trips_id1_df = df.filter((df['stop_id'] == stop_id1) & (df[\"departure_schedule\"] < arrival_time)).select(\"trip_id\", \"departure_schedule\").distinct()\n",
    "#     trips_id1_df.orderBy(\"departure_time\",ascending=False).show(15)\n",
    "    # arrival_time 之前过stop_id2 的trips\n",
    "    trips_id2_df = df.filter((df['stop_id'] == stop_id2) & (df[\"arrival_schedule\"] < arrival_time)).select(\"trip_id\", \"arrival_schedule\").distinct()\n",
    "    trips_id2_df = trips_id2_df.withColumnRenamed(\"trip_id\",\"trip_id2\")\n",
    "\n",
    "    direct_trips = trips_id1_df.join(trips_id2_df, trips_id1_df[\"trip_id\"] == trips_id2_df[\"trip_id2\"], \"inner\")\n",
    "    # drop duplicate trip_id\n",
    "    direct_trips = direct_trips.drop(\"trip_id2\")\n",
    "    \n",
    "    # 把反向的删除了\n",
    "    direct_trips = direct_trips.filter(direct_trips[\"departure_schedule\"] < direct_trips[\"arrival_schedule\"])\n",
    "    direct_trips.orderBy(\"arrival_schedule\", ascending=False).show(100, False)\n",
    "    \n",
    "    return direct_trips"
   ]
  },
  {
   "cell_type": "code",
   "execution_count": 34,
   "id": "4a3729a7-56df-4343-bb9d-9b441b03e70f",
   "metadata": {},
   "outputs": [
    {
     "data": {
      "application/vnd.jupyter.widget-view+json": {
       "model_id": "",
       "version_major": 2,
       "version_minor": 0
      },
      "text/plain": [
       "FloatProgress(value=0.0, bar_style='info', description='Progress:', layout=Layout(height='25px', width='50%'),…"
      ]
     },
     "metadata": {},
     "output_type": "display_data"
    },
    {
     "name": "stdout",
     "output_type": "stream",
     "text": [
      "+---------------------+------------------+----------------+\n",
      "|trip_id              |departure_schedule|arrival_schedule|\n",
      "+---------------------+------------------+----------------+\n",
      "|85:801:189656-32200-1|13.05.2019 17:27  |13.05.2019 17:34|\n",
      "|85:801:189431-32200-1|13.05.2019 16:57  |13.05.2019 17:04|\n",
      "|85:801:189051-32200-1|13.05.2019 16:26  |13.05.2019 16:32|\n",
      "|85:801:189635-32200-1|13.05.2019 15:56  |13.05.2019 16:02|\n",
      "|85:801:189322-32200-1|13.05.2019 15:26  |13.05.2019 15:32|\n",
      "|85:801:189490-32200-1|13.05.2019 14:56  |13.05.2019 15:02|\n",
      "|85:801:189138-32200-1|13.05.2019 14:26  |13.05.2019 14:32|\n",
      "|85:801:189426-32200-1|13.05.2019 13:56  |13.05.2019 14:02|\n",
      "|85:801:189087-32200-1|13.05.2019 13:26  |13.05.2019 13:32|\n",
      "|85:801:189548-32200-1|13.05.2019 12:56  |13.05.2019 13:02|\n",
      "|85:801:189317-32200-1|13.05.2019 12:26  |13.05.2019 12:32|\n",
      "|85:801:189485-32200-1|13.05.2019 11:56  |13.05.2019 12:02|\n",
      "|85:801:189133-32200-1|13.05.2019 11:26  |13.05.2019 11:32|\n",
      "|85:801:189363-32200-1|13.05.2019 10:56  |13.05.2019 11:02|\n",
      "|85:801:189082-32200-1|13.05.2019 10:26  |13.05.2019 10:32|\n",
      "|85:801:189543-32200-1|13.05.2019 09:56  |13.05.2019 10:02|\n",
      "|85:801:189312-32200-1|13.05.2019 09:26  |13.05.2019 09:32|\n",
      "|85:801:189515-32200-1|13.05.2019 08:56  |13.05.2019 09:02|\n",
      "|85:801:189128-32200-1|13.05.2019 08:26  |13.05.2019 08:32|\n",
      "|85:801:189539-32200-1|13.05.2019 07:56  |13.05.2019 08:02|\n",
      "|85:801:189309-32200-1|13.05.2019 07:26  |13.05.2019 07:32|\n",
      "|85:801:189511-32200-1|13.05.2019 06:56  |13.05.2019 07:02|\n",
      "|85:801:189475-32200-1|13.05.2019 06:26  |13.05.2019 06:32|\n",
      "|85:801:189354-32200-1|13.05.2019 05:56  |13.05.2019 06:02|\n",
      "|85:801:189296-32200-1|13.05.2019 05:26  |13.05.2019 05:32|\n",
      "+---------------------+------------------+----------------+"
     ]
    }
   ],
   "source": [
    "temp = direct_routes(actual_data_513, \"8572603\", \"8582104\", \"13.05.2019 18:00:00\")"
   ]
  },
  {
   "cell_type": "code",
   "execution_count": null,
   "id": "79ff3760-4d50-4585-852b-dda9aa5acefa",
   "metadata": {},
   "outputs": [],
   "source": [
    "import matplotlib.pyplot as plt\n",
    "temp.toPandas().plot.bar(x='name',y='age')"
   ]
  }
 ],
 "metadata": {
  "kernelspec": {
   "display_name": "PySpark",
   "language": "python",
   "name": "pysparkkernel"
  },
  "language_info": {
   "codemirror_mode": {
    "name": "python",
    "version": 3
   },
   "file_extension": ".py",
   "mimetype": "text/x-python",
   "name": "pyspark",
   "pygments_lexer": "python3"
  }
 },
 "nbformat": 4,
 "nbformat_minor": 5
}
