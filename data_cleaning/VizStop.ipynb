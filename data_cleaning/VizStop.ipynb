{
 "cells": [
  {
   "cell_type": "code",
   "execution_count": 1,
   "id": "0f7bfcdd-2c1a-4e50-a391-5f59af41899b",
   "metadata": {},
   "outputs": [],
   "source": [
    "import pandas as pd\n",
    "import plotly.express as px\n",
    "import plotly.graph_objects as go\n",
    "import ipywidgets as widgets\n",
    "from ipywidgets import HBox, VBox"
   ]
  },
  {
   "cell_type": "code",
   "execution_count": 2,
   "id": "397ae271-4be3-4db4-bc37-b162c7152d5e",
   "metadata": {},
   "outputs": [
    {
     "data": {
      "text/html": [
       "<div>\n",
       "<style scoped>\n",
       "    .dataframe tbody tr th:only-of-type {\n",
       "        vertical-align: middle;\n",
       "    }\n",
       "\n",
       "    .dataframe tbody tr th {\n",
       "        vertical-align: top;\n",
       "    }\n",
       "\n",
       "    .dataframe thead th {\n",
       "        text-align: right;\n",
       "    }\n",
       "</style>\n",
       "<table border=\"1\" class=\"dataframe\">\n",
       "  <thead>\n",
       "    <tr style=\"text-align: right;\">\n",
       "      <th></th>\n",
       "      <th>stop_name</th>\n",
       "      <th>stop_lat</th>\n",
       "      <th>stop_lon</th>\n",
       "      <th>main_id</th>\n",
       "    </tr>\n",
       "  </thead>\n",
       "  <tbody>\n",
       "    <tr>\n",
       "      <th>0</th>\n",
       "      <td>Zimmerberg-Basistunnel</td>\n",
       "      <td>47.351677</td>\n",
       "      <td>8.521957</td>\n",
       "      <td>176</td>\n",
       "    </tr>\n",
       "    <tr>\n",
       "      <th>1</th>\n",
       "      <td>Oetwil a.d.L., Schweizäcker</td>\n",
       "      <td>47.423626</td>\n",
       "      <td>8.403183</td>\n",
       "      <td>8500926</td>\n",
       "    </tr>\n",
       "    <tr>\n",
       "      <th>2</th>\n",
       "      <td>Zürich Flughafen, Carterminal</td>\n",
       "      <td>47.451023</td>\n",
       "      <td>8.563729</td>\n",
       "      <td>8502075</td>\n",
       "    </tr>\n",
       "    <tr>\n",
       "      <th>3</th>\n",
       "      <td>Dietikon Stoffelbach</td>\n",
       "      <td>47.393326</td>\n",
       "      <td>8.398960</td>\n",
       "      <td>8502186</td>\n",
       "    </tr>\n",
       "    <tr>\n",
       "      <th>4</th>\n",
       "      <td>Rudolfstetten Hofacker</td>\n",
       "      <td>47.364670</td>\n",
       "      <td>8.376952</td>\n",
       "      <td>8502187</td>\n",
       "    </tr>\n",
       "  </tbody>\n",
       "</table>\n",
       "</div>"
      ],
      "text/plain": [
       "                       stop_name   stop_lat  stop_lon  main_id\n",
       "0         Zimmerberg-Basistunnel  47.351677  8.521957      176\n",
       "1    Oetwil a.d.L., Schweizäcker  47.423626  8.403183  8500926\n",
       "2  Zürich Flughafen, Carterminal  47.451023  8.563729  8502075\n",
       "3           Dietikon Stoffelbach  47.393326  8.398960  8502186\n",
       "4         Rudolfstetten Hofacker  47.364670  8.376952  8502187"
      ]
     },
     "execution_count": 2,
     "metadata": {},
     "output_type": "execute_result"
    }
   ],
   "source": [
    "# prepare data\n",
    "df = pd.read_csv('stops_main.csv')\n",
    "df = df.drop(['Unnamed: 0'], axis=1)\n",
    "stop_list = df['stop_name'].tolist()\n",
    "stop_list.sort()\n",
    "\n",
    "token = \"pk.eyJ1IjoiY29jb251dG51dCIsImEiOiJjbDNscTZhbHowMmxtM2pwajl3Yjd1ejF0In0.PXbwkPmWYXrAhQsus3ypVA\"\n",
    "\n",
    "df[:5]"
   ]
  },
  {
   "cell_type": "code",
   "execution_count": 3,
   "id": "64dda02d-e374-4a88-be0f-56e1bfea79de",
   "metadata": {},
   "outputs": [
    {
     "data": {
      "application/vnd.jupyter.widget-view+json": {
       "model_id": "b8f1bbc2752b4fffbb84625b298332dc",
       "version_major": 2,
       "version_minor": 0
      },
      "text/plain": [
       "VBox(children=(HBox(children=(Dropdown(description='Stop:', options=('Adlikon b. R., Dorf', 'Adlikon b. R., Le…"
      ]
     },
     "metadata": {},
     "output_type": "display_data"
    }
   ],
   "source": [
    "# figure\n",
    "layout = dict(hovermode='closest',\n",
    "    margin=dict(l=0, t=0, r=0, b=0, pad=0),\n",
    "    mapbox=dict(\n",
    "        accesstoken=token,\n",
    "        bearing=0,\n",
    "        center=go.layout.mapbox.Center(\n",
    "            lat=47.378177,\n",
    "            lon=8.540192\n",
    "        ),\n",
    "        pitch=0,\n",
    "        zoom=10\n",
    "    ))\n",
    "\n",
    "data_all = go.Scattermapbox(\n",
    "        lat=list(df['stop_lat']),\n",
    "        lon=list(df['stop_lon']),\n",
    "        mode='markers',\n",
    "        marker=go.scattermapbox.Marker(\n",
    "            size=5\n",
    "        ),\n",
    "        text=list(df['stop_name'])\n",
    "    )\n",
    "\n",
    "data_choose = go.Scattermapbox(\n",
    "        lat=[],\n",
    "        lon=[],\n",
    "        mode='markers',\n",
    "        marker=go.scattermapbox.Marker(\n",
    "            size=10,\n",
    "            color='red'\n",
    "        )\n",
    "    )\n",
    "\n",
    "figure = go.FigureWidget(data=[data_all, data_choose],\n",
    "                    layout=layout)\n",
    "\n",
    "# update function\n",
    "def f(a):\n",
    "    # get stop lat and lon\n",
    "    stop_data = df[df['stop_name'] == a]\n",
    "    # get other stop info\n",
    "    stop_id = int(stop_data['main_id'])\n",
    "    stop_lat = float(stop_data['stop_lat'])\n",
    "    stop_lon = float(stop_data['stop_lon'])\n",
    "    print('{} ({},{})'.format(stop_id, stop_lat, stop_lon))\n",
    "    \n",
    "    # update figure\n",
    "    with figure.batch_update():\n",
    "        figure.data[1].lat = [stop_lat]\n",
    "        figure.data[1].lon = [stop_lon]\n",
    "        \n",
    "# widget\n",
    "choose_stop = widgets.Dropdown(\n",
    "    description='Stop:',\n",
    "    options=stop_list\n",
    ")\n",
    "\n",
    "out = widgets.interactive_output(f, {'a': choose_stop})\n",
    "\n",
    "# display\n",
    "VBox([HBox([choose_stop, out]), figure])"
   ]
  },
  {
   "cell_type": "code",
   "execution_count": null,
   "id": "6d70da9f-6717-4324-8604-b23c27a4f5ca",
   "metadata": {},
   "outputs": [],
   "source": []
  }
 ],
 "metadata": {
  "kernelspec": {
   "display_name": "Python 3",
   "language": "python",
   "name": "python3"
  },
  "language_info": {
   "codemirror_mode": {
    "name": "ipython",
    "version": 3
   },
   "file_extension": ".py",
   "mimetype": "text/x-python",
   "name": "python",
   "nbconvert_exporter": "python",
   "pygments_lexer": "ipython3",
   "version": "3.9.7"
  }
 },
 "nbformat": 4,
 "nbformat_minor": 5
}
