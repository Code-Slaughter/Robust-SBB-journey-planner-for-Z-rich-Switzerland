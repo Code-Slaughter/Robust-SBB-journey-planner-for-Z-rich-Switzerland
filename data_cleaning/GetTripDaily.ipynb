{
 "cells": [
  {
   "cell_type": "markdown",
   "id": "bb196bee-9d83-470a-b756-5cbef61acb33",
   "metadata": {},
   "source": [
    "# Set up spark"
   ]
  },
  {
   "cell_type": "code",
   "execution_count": 1,
   "id": "4c5510fa-2963-49fd-932a-14a36a8a2e2e",
   "metadata": {},
   "outputs": [],
   "source": [
    "%load_ext sparkmagic.magics"
   ]
  },
  {
   "cell_type": "code",
   "execution_count": 2,
   "id": "18169c3a-cc94-4077-8d41-a664869e4912",
   "metadata": {},
   "outputs": [],
   "source": [
    "import os\n",
    "from IPython import get_ipython\n",
    "\n",
    "# set the application name as \"<your_gaspar_id>-homework3\"\n",
    "username = os.environ['RENKU_USERNAME']\n",
    "server = \"http://iccluster029.iccluster.epfl.ch:8998\"\n",
    "\n",
    "get_ipython().run_cell_magic(\n",
    "    'spark',\n",
    "    line='config', \n",
    "    cell=\"\"\"{{ \"name\": \"{0}-final\", \"executorMemory\": \"4G\", \"executorCores\": 4, \"numExecutors\": 10, \"driverMemory\": \"4G\"}}\"\"\".format(username)\n",
    ")"
   ]
  },
  {
   "cell_type": "code",
   "execution_count": 3,
   "id": "4d53c7e7-3a85-475d-86f6-479aac8e1ca6",
   "metadata": {},
   "outputs": [
    {
     "name": "stdout",
     "output_type": "stream",
     "text": [
      "Starting Spark application\n"
     ]
    },
    {
     "data": {
      "text/html": [
       "<table>\n",
       "<tr><th>ID</th><th>YARN Application ID</th><th>Kind</th><th>State</th><th>Spark UI</th><th>Driver log</th><th>User</th><th>Current session?</th></tr><tr><td>7357</td><td>application_1652960972356_3072</td><td>pyspark</td><td>idle</td><td><a target=\"_blank\" href=\"http://iccluster029.iccluster.epfl.ch:8088/proxy/application_1652960972356_3072/\">Link</a></td><td><a target=\"_blank\" href=\"http://iccluster056.iccluster.epfl.ch:8042/node/containerlogs/container_e05_1652960972356_3072_01_000001/eric\">Link</a></td><td>None</td><td>✔</td></tr></table>"
      ],
      "text/plain": [
       "<IPython.core.display.HTML object>"
      ]
     },
     "metadata": {},
     "output_type": "display_data"
    },
    {
     "data": {
      "application/vnd.jupyter.widget-view+json": {
       "model_id": "",
       "version_major": 2,
       "version_minor": 0
      },
      "text/plain": [
       "FloatProgress(value=0.0, bar_style='info', description='Progress:', layout=Layout(height='25px', width='50%'),…"
      ]
     },
     "metadata": {},
     "output_type": "display_data"
    },
    {
     "name": "stdout",
     "output_type": "stream",
     "text": [
      "SparkSession available as 'spark'.\n"
     ]
    }
   ],
   "source": [
    "get_ipython().run_line_magic(\n",
    "    \"spark\", \"add -s {0}-final -l python -u {1} -k\".format(username, server)\n",
    ")"
   ]
  },
  {
   "cell_type": "code",
   "execution_count": 4,
   "id": "1a78d852-7628-4ba6-9c7d-df8ff3f9ca37",
   "metadata": {},
   "outputs": [
    {
     "data": {
      "application/vnd.jupyter.widget-view+json": {
       "model_id": "",
       "version_major": 2,
       "version_minor": 0
      },
      "text/plain": [
       "FloatProgress(value=0.0, bar_style='info', description='Progress:', layout=Layout(height='25px', width='50%'),…"
      ]
     },
     "metadata": {},
     "output_type": "display_data"
    }
   ],
   "source": [
    "%%spark\n",
    "import pyspark.sql.functions as functions"
   ]
  },
  {
   "cell_type": "markdown",
   "id": "d8c27cb0-47f1-431f-b04b-1c69d7210912",
   "metadata": {},
   "source": [
    "# Get main stops"
   ]
  },
  {
   "cell_type": "code",
   "execution_count": 39,
   "id": "e8b273cb-f53d-42d8-a84e-ecfbee784aac",
   "metadata": {},
   "outputs": [
    {
     "data": {
      "application/vnd.jupyter.widget-view+json": {
       "model_id": "",
       "version_major": 2,
       "version_minor": 0
      },
      "text/plain": [
       "FloatProgress(value=0.0, bar_style='info', description='Progress:', layout=Layout(height='25px', width='50%'),…"
      ]
     },
     "metadata": {},
     "output_type": "display_data"
    },
    {
     "name": "stdout",
     "output_type": "stream",
     "text": [
      "root\n",
      " |-- stop_name: string (nullable = true)\n",
      " |-- stop_lat: string (nullable = true)\n",
      " |-- stop_lon: string (nullable = true)\n",
      " |-- main_id: string (nullable = true)"
     ]
    }
   ],
   "source": [
    "%%spark\n",
    "stops = spark.read.option(\"header\",True).csv('/user/sixu/work/stops_main.csv')\n",
    "stops = stops.drop(\"_c0\")\n",
    "stops.printSchema()"
   ]
  },
  {
   "cell_type": "code",
   "execution_count": 40,
   "id": "773efa14-3ec3-4296-8095-406feea79909",
   "metadata": {},
   "outputs": [
    {
     "data": {
      "application/vnd.jupyter.widget-view+json": {
       "model_id": "",
       "version_major": 2,
       "version_minor": 0
      },
      "text/plain": [
       "FloatProgress(value=0.0, bar_style='info', description='Progress:', layout=Layout(height='25px', width='50%'),…"
      ]
     },
     "metadata": {},
     "output_type": "display_data"
    },
    {
     "name": "stdout",
     "output_type": "stream",
     "text": [
      "+--------------------+---------+--------+-------+\n",
      "|           stop_name| stop_lat|stop_lon|main_id|\n",
      "+--------------------+---------+--------+-------+\n",
      "|Zimmerberg-Basist...|47.351677|8.521957|    176|\n",
      "|Oetwil a.d.L., Sc...|47.423626|8.403183|8500926|\n",
      "|Zürich Flughafen,...|47.451023|8.563729|8502075|\n",
      "|Dietikon Stoffelbach|47.393326| 8.39896|8502186|\n",
      "|Rudolfstetten Hof...| 47.36467|8.376952|8502187|\n",
      "+--------------------+---------+--------+-------+\n",
      "only showing top 5 rows"
     ]
    }
   ],
   "source": [
    "%%spark\n",
    "stops.show(5)"
   ]
  },
  {
   "cell_type": "markdown",
   "id": "4ffd7973-55cd-4f2a-8276-4f5e36843e88",
   "metadata": {},
   "source": [
    "# Get trips"
   ]
  },
  {
   "cell_type": "code",
   "execution_count": 14,
   "id": "525000b4-04c5-418e-9459-a4fd1598a0e7",
   "metadata": {},
   "outputs": [
    {
     "data": {
      "application/vnd.jupyter.widget-view+json": {
       "model_id": "",
       "version_major": 2,
       "version_minor": 0
      },
      "text/plain": [
       "FloatProgress(value=0.0, bar_style='info', description='Progress:', layout=Layout(height='25px', width='50%'),…"
      ]
     },
     "metadata": {},
     "output_type": "display_data"
    },
    {
     "name": "stdout",
     "output_type": "stream",
     "text": [
      "root\n",
      " |-- trip_id: string (nullable = true)\n",
      " |-- arrival_time: string (nullable = true)\n",
      " |-- departure_time: string (nullable = true)\n",
      " |-- stop_id: string (nullable = true)\n",
      " |-- stop_sequence: short (nullable = true)\n",
      " |-- pickup_type: byte (nullable = true)\n",
      " |-- drop_off_type: byte (nullable = true)\n",
      " |-- year: integer (nullable = true)\n",
      " |-- month: integer (nullable = true)\n",
      " |-- day: integer (nullable = true)"
     ]
    }
   ],
   "source": [
    "%%spark\n",
    "stop_times = spark.read.orc('/data/sbb/part_orc/stop_times')\n",
    "stop_times.printSchema()"
   ]
  },
  {
   "cell_type": "code",
   "execution_count": 45,
   "id": "5b0ff919-6f3f-48d7-b0ea-6f4ea4db55b5",
   "metadata": {},
   "outputs": [
    {
     "data": {
      "application/vnd.jupyter.widget-view+json": {
       "model_id": "",
       "version_major": 2,
       "version_minor": 0
      },
      "text/plain": [
       "FloatProgress(value=0.0, bar_style='info', description='Progress:', layout=Layout(height='25px', width='50%'),…"
      ]
     },
     "metadata": {},
     "output_type": "display_data"
    },
    {
     "name": "stdout",
     "output_type": "stream",
     "text": [
      "+--------------------+-------+------------+--------------+-------------+\n",
      "|             trip_id|stop_id|arrival_time|departure_time|stop_sequence|\n",
      "+--------------------+-------+------------+--------------+-------------+\n",
      "|1.TA.1-1-B-j19-1.1.R|8500010|    04:20:00|      04:20:00|            1|\n",
      "|1.TA.1-1-B-j19-1.1.R|8500020|    04:24:00|      04:24:00|            2|\n",
      "|1.TA.1-1-B-j19-1.1.R|8500021|    04:28:00|      04:28:00|            3|\n",
      "|1.TA.1-1-B-j19-1.1.R|8517131|    04:30:00|      04:30:00|            4|\n",
      "|1.TA.1-1-B-j19-1.1.R|8500300|    04:32:00|      04:32:00|            5|\n",
      "+--------------------+-------+------------+--------------+-------------+\n",
      "only showing top 5 rows"
     ]
    }
   ],
   "source": [
    "%%spark\n",
    "from pyspark.sql import Row\n",
    "\n",
    "# filter by date\n",
    "stop_times_515 = stop_times.filter(stop_times.year=='2019')\\\n",
    "        .filter(stop_times.month=='5')\\\n",
    "        .filter(stop_times.day=='15')\n",
    "\n",
    "# process id\n",
    "stop_times_515 = stop_times_515.rdd.map(lambda x: (\n",
    "    x.trip_id,\n",
    "    x.stop_id.lstrip('Parent').split(\":\")[0].rstrip('P'),\n",
    "    x.arrival_time,\n",
    "    x.departure_time,\n",
    "    x.stop_sequence,\n",
    "    )).toDF([\"trip_id\",\"stop_id\",\"arrival_time\",\"departure_time\",\"stop_sequence\"])\n",
    "stop_times_515.show(5)"
   ]
  },
  {
   "cell_type": "markdown",
   "id": "480d8179-6530-4d7c-aad1-c7e077251eae",
   "metadata": {},
   "source": [
    "<font color=\"red\">11128930 tuples left</font>"
   ]
  },
  {
   "cell_type": "code",
   "execution_count": 49,
   "id": "d9d661f3-368d-4cdc-ad62-9a6b7ba3b171",
   "metadata": {},
   "outputs": [
    {
     "data": {
      "application/vnd.jupyter.widget-view+json": {
       "model_id": "",
       "version_major": 2,
       "version_minor": 0
      },
      "text/plain": [
       "FloatProgress(value=0.0, bar_style='info', description='Progress:', layout=Layout(height='25px', width='50%'),…"
      ]
     },
     "metadata": {},
     "output_type": "display_data"
    },
    {
     "name": "stdout",
     "output_type": "stream",
     "text": [
      "+--------------------+-------+------------+--------------+-------------+------------------+---------+--------+-------+\n",
      "|             trip_id|stop_id|arrival_time|departure_time|stop_sequence|         stop_name| stop_lat|stop_lon|main_id|\n",
      "+--------------------+-------+------------+--------------+-------------+------------------+---------+--------+-------+\n",
      "|5.TA.1-1-A-j19-1.3.H|8503305|    02:42:00|      02:42:00|            2|        Effretikon|47.425816|8.686682|8503305|\n",
      "|5.TA.1-1-A-j19-1.3.H|8503306|    02:46:00|      02:46:00|            3|         Dietlikon|  47.4202|8.619272|8503306|\n",
      "|5.TA.1-1-A-j19-1.3.H|8503147|    02:50:00|      02:50:00|            4|         Stettbach|47.397213|8.596141|8503147|\n",
      "|5.TA.1-1-A-j19-1.3.H|8503003|    02:55:00|      02:55:00|            5|Zürich Stadelhofen| 47.36661|8.548485|8503003|\n",
      "|5.TA.1-1-A-j19-1.3.H|8503000|    02:58:00|      03:00:00|            6|         Zürich HB|47.378178|8.540212|8503000|\n",
      "+--------------------+-------+------------+--------------+-------------+------------------+---------+--------+-------+\n",
      "only showing top 5 rows"
     ]
    }
   ],
   "source": [
    "%%spark\n",
    "# filter by stops in radius\n",
    "stop_times_515 = stop_times_515.join(stops, stop_times_515.stop_id==stops.main_id, \"inner\")\n",
    "stop_times_515.drop(\"main_id\")\n",
    "stop_times_515.show(5)"
   ]
  },
  {
   "cell_type": "markdown",
   "id": "4bf2d2f7-022b-4488-9b89-1b6bdf693ec7",
   "metadata": {},
   "source": [
    "<font color=\"red\">2307009 tuples left</font>"
   ]
  },
  {
   "cell_type": "code",
   "execution_count": 52,
   "id": "3a176b0e-bf0c-4bf5-8437-245dc7f2dbd7",
   "metadata": {},
   "outputs": [
    {
     "data": {
      "application/vnd.jupyter.widget-view+json": {
       "model_id": "",
       "version_major": 2,
       "version_minor": 0
      },
      "text/plain": [
       "FloatProgress(value=0.0, bar_style='info', description='Progress:', layout=Layout(height='25px', width='50%'),…"
      ]
     },
     "metadata": {},
     "output_type": "display_data"
    }
   ],
   "source": [
    "# %%spark\n",
    "# stop_times_515_in_radius.write.option(\"header\",True).csv(\"/user/sixu/work/stop_times_515_main.csv\")"
   ]
  },
  {
   "cell_type": "markdown",
   "id": "6e38e735-8476-4436-a624-f5c0cb85451c",
   "metadata": {},
   "source": [
    "# Handle duplicate"
   ]
  },
  {
   "cell_type": "code",
   "execution_count": 53,
   "id": "70bc1d78-4c66-4ce8-adee-0e60da49cbad",
   "metadata": {},
   "outputs": [
    {
     "data": {
      "application/vnd.jupyter.widget-view+json": {
       "model_id": "",
       "version_major": 2,
       "version_minor": 0
      },
      "text/plain": [
       "FloatProgress(value=0.0, bar_style='info', description='Progress:', layout=Layout(height='25px', width='50%'),…"
      ]
     },
     "metadata": {},
     "output_type": "display_data"
    },
    {
     "name": "stdout",
     "output_type": "stream",
     "text": [
      "+--------------------+-------+------------+--------------+-------------+----------+---------+--------+-------+\n",
      "|             trip_id|stop_id|arrival_time|departure_time|stop_sequence| stop_name| stop_lat|stop_lon|main_id|\n",
      "+--------------------+-------+------------+--------------+-------------+----------+---------+--------+-------+\n",
      "|5.TA.1-1-A-j19-1.3.H|8503305|    02:42:00|      02:42:00|            2|Effretikon|47.425816|8.686682|8503305|\n",
      "|6.TA.1-1-A-j19-1.4.H|8503305|    03:42:00|      03:42:00|            2|Effretikon|47.425816|8.686682|8503305|\n",
      "|7.TA.1-1-A-j19-1.5.H|8503305|    03:42:00|      03:42:00|            2|Effretikon|47.425816|8.686682|8503305|\n",
      "|1.TA.26-1-A-j19-1...|8503305|    01:21:00|      01:21:00|            5|Effretikon|47.425816|8.686682|8503305|\n",
      "|2.TA.26-1-A-j19-1...|8503305|    01:21:00|      01:21:00|            5|Effretikon|47.425816|8.686682|8503305|\n",
      "|3.TA.26-1-A-j19-1...|8503305|    01:21:00|      01:21:00|            5|Effretikon|47.425816|8.686682|8503305|\n",
      "|4.TA.26-1-A-j19-1...|8503305|    01:21:00|      01:21:00|            5|Effretikon|47.425816|8.686682|8503305|\n",
      "|5.TA.26-1-A-j19-1...|8503305|    01:21:00|      01:21:00|            5|Effretikon|47.425816|8.686682|8503305|\n",
      "|6.TA.26-1-A-j19-1...|8503305|    01:21:00|      01:21:00|            5|Effretikon|47.425816|8.686682|8503305|\n",
      "|7.TA.26-1-A-j19-1...|8503305|    01:21:00|      01:21:00|            5|Effretikon|47.425816|8.686682|8503305|\n",
      "|8.TA.26-1-A-j19-1...|8503305|    01:42:00|      01:42:00|            2|Effretikon|47.425816|8.686682|8503305|\n",
      "|25.TA.26-1-A-j19-...|8503305|    02:42:00|      02:42:00|            2|Effretikon|47.425816|8.686682|8503305|\n",
      "|9.TA.26-1-A-j19-1...|8503305|    01:42:00|      01:42:00|            2|Effretikon|47.425816|8.686682|8503305|\n",
      "|26.TA.26-1-A-j19-...|8503305|    02:42:00|      02:42:00|            2|Effretikon|47.425816|8.686682|8503305|\n",
      "|10.TA.26-1-A-j19-...|8503305|    01:42:00|      01:42:00|            2|Effretikon|47.425816|8.686682|8503305|\n",
      "|27.TA.26-1-A-j19-...|8503305|    02:42:00|      02:42:00|            2|Effretikon|47.425816|8.686682|8503305|\n",
      "|11.TA.26-1-A-j19-...|8503305|    01:42:00|      01:42:00|            2|Effretikon|47.425816|8.686682|8503305|\n",
      "|28.TA.26-1-A-j19-...|8503305|    02:42:00|      02:42:00|            2|Effretikon|47.425816|8.686682|8503305|\n",
      "|57.TA.26-1-A-j19-...|8503305|    01:12:00|      01:12:00|            2|Effretikon|47.425816|8.686682|8503305|\n",
      "|60.TA.26-1-A-j19-...|8503305|    03:12:00|      03:12:00|            2|Effretikon|47.425816|8.686682|8503305|\n",
      "+--------------------+-------+------------+--------------+-------------+----------+---------+--------+-------+\n",
      "only showing top 20 rows"
     ]
    }
   ],
   "source": [
    "%%spark\n",
    "temp = stop_times_515.filter(stop_times_515.stop_id == '8503305')\n",
    "temp.show(20)"
   ]
  },
  {
   "cell_type": "markdown",
   "id": "2a77bf71-bd04-4218-b40f-a4447352a2ed",
   "metadata": {},
   "source": [
    "<font color=\"red\">How can we know which trip_id?\n",
    "Maybe we can get timetable from actual data directly...</color>"
   ]
  },
  {
   "cell_type": "markdown",
   "id": "145f7a5c-a40d-4826-85e2-c7d63f9a557f",
   "metadata": {},
   "source": [
    "# Actural data?"
   ]
  },
  {
   "cell_type": "code",
   "execution_count": 88,
   "id": "dde831d7-9143-48ef-b2ee-5bec7b2a5651",
   "metadata": {},
   "outputs": [
    {
     "data": {
      "application/vnd.jupyter.widget-view+json": {
       "model_id": "",
       "version_major": 2,
       "version_minor": 0
      },
      "text/plain": [
       "FloatProgress(value=0.0, bar_style='info', description='Progress:', layout=Layout(height='25px', width='50%'),…"
      ]
     },
     "metadata": {},
     "output_type": "display_data"
    },
    {
     "name": "stdout",
     "output_type": "stream",
     "text": [
      "root\n",
      " |-- betriebstag: string (nullable = true)\n",
      " |-- fahrt_bezeichner: string (nullable = true)\n",
      " |-- betreiber_id: string (nullable = true)\n",
      " |-- betreiber_abk: string (nullable = true)\n",
      " |-- betreiber_name: string (nullable = true)\n",
      " |-- produkt_id: string (nullable = true)\n",
      " |-- linien_id: string (nullable = true)\n",
      " |-- linien_text: string (nullable = true)\n",
      " |-- umlauf_id: string (nullable = true)\n",
      " |-- verkehrsmittel_text: string (nullable = true)\n",
      " |-- zusatzfahrt_tf: string (nullable = true)\n",
      " |-- faellt_aus_tf: string (nullable = true)\n",
      " |-- bpuic: string (nullable = true)\n",
      " |-- haltestellen_name: string (nullable = true)\n",
      " |-- ankunftszeit: string (nullable = true)\n",
      " |-- an_prognose: string (nullable = true)\n",
      " |-- an_prognose_status: string (nullable = true)\n",
      " |-- abfahrtszeit: string (nullable = true)\n",
      " |-- ab_prognose: string (nullable = true)\n",
      " |-- ab_prognose_status: string (nullable = true)\n",
      " |-- durchfahrt_tf: string (nullable = true)"
     ]
    }
   ],
   "source": [
    "%%spark\n",
    "sbb_515 = spark.read.orc('/data/sbb/orc/istdaten')\n",
    "sbb_515 = sbb_515.filter(sbb_515.betriebstag=='15.05.2019').filter(sbb_515.zusatzfahrt_tf=='false')\n",
    "sbb_515.printSchema()"
   ]
  },
  {
   "cell_type": "markdown",
   "id": "b3624ffa-cb58-4626-a34e-2b8854b57c33",
   "metadata": {},
   "source": [
    "<font color=\"red\">1386907 tuples left</color>"
   ]
  },
  {
   "cell_type": "code",
   "execution_count": 91,
   "id": "afd168b5-931f-40ef-9787-0df88c9bdc85",
   "metadata": {},
   "outputs": [
    {
     "data": {
      "application/vnd.jupyter.widget-view+json": {
       "model_id": "",
       "version_major": 2,
       "version_minor": 0
      },
      "text/plain": [
       "FloatProgress(value=0.0, bar_style='info', description='Progress:', layout=Layout(height='25px', width='50%'),…"
      ]
     },
     "metadata": {},
     "output_type": "display_data"
    },
    {
     "name": "stdout",
     "output_type": "stream",
     "text": [
      "318049"
     ]
    }
   ],
   "source": [
    "%%spark\n",
    "# filter by stops in radius\n",
    "sbb_515 = sbb_515.join(stops, sbb_515.haltestellen_name==stops.stop_name, \"inner\")\n",
    "sbb_515.count()"
   ]
  },
  {
   "cell_type": "markdown",
   "id": "8e68a34e-4154-418e-9cc6-9f0c549a7e02",
   "metadata": {},
   "source": [
    "<font color=\"red\">Only 318049 tuples!</color>"
   ]
  },
  {
   "cell_type": "code",
   "execution_count": 85,
   "id": "219dd857-f754-4897-97c3-3579c434a6ec",
   "metadata": {},
   "outputs": [
    {
     "data": {
      "application/vnd.jupyter.widget-view+json": {
       "model_id": "",
       "version_major": 2,
       "version_minor": 0
      },
      "text/plain": [
       "FloatProgress(value=0.0, bar_style='info', description='Progress:', layout=Layout(height='25px', width='50%'),…"
      ]
     },
     "metadata": {},
     "output_type": "display_data"
    },
    {
     "name": "stdout",
     "output_type": "stream",
     "text": [
      "+----------------+\n",
      "|fahrt_bezeichner|\n",
      "+----------------+\n",
      "|    85:11:10:001|\n",
      "|  85:11:1007:001|\n",
      "|  85:11:1009:001|\n",
      "|  85:11:1011:001|\n",
      "| 85:11:10190:001|\n",
      "| 85:11:10190:001|\n",
      "| 85:11:10540:001|\n",
      "| 85:11:10541:001|\n",
      "| 85:11:10542:002|\n",
      "| 85:11:10737:001|\n",
      "| 85:11:10738:001|\n",
      "| 85:11:10739:001|\n",
      "| 85:11:10740:001|\n",
      "| 85:11:10836:001|\n",
      "| 85:11:10836:001|\n",
      "| 85:11:10838:001|\n",
      "| 85:11:10838:001|\n",
      "| 85:11:10839:001|\n",
      "| 85:11:10839:001|\n",
      "| 85:11:10841:001|\n",
      "+----------------+\n",
      "only showing top 20 rows"
     ]
    }
   ],
   "source": [
    "%%spark\n",
    "sbb_515.select('fahrt_bezeichner').show(20)"
   ]
  },
  {
   "cell_type": "code",
   "execution_count": 86,
   "id": "2a41d52c-ecd9-406f-a95f-15b876051196",
   "metadata": {},
   "outputs": [
    {
     "data": {
      "application/vnd.jupyter.widget-view+json": {
       "model_id": "",
       "version_major": 2,
       "version_minor": 0
      },
      "text/plain": [
       "FloatProgress(value=0.0, bar_style='info', description='Progress:', layout=Layout(height='25px', width='50%'),…"
      ]
     },
     "metadata": {},
     "output_type": "display_data"
    },
    {
     "data": {
      "application/vnd.jupyter.widget-view+json": {
       "model_id": "",
       "version_major": 2,
       "version_minor": 0
      },
      "text/plain": [
       "FloatProgress(value=0.0, bar_style='info', description='Progress:', layout=Layout(height='25px', width='50%'),…"
      ]
     },
     "metadata": {},
     "output_type": "display_data"
    }
   ],
   "source": [
    "%%spark -o selected_df\n",
    "id_list = ['85:11:10:001', '85:11:10190:001', '85:11:10541:001', '85:11:10838:001', '85:11:10839:001']\n",
    "selected_df = stop_times_515.filter(stop_times_515.trip_id.isin(id_list))"
   ]
  },
  {
   "cell_type": "code",
   "execution_count": 87,
   "id": "849d778b-1377-4df7-a580-e53db982c1f9",
   "metadata": {},
   "outputs": [
    {
     "data": {
      "text/plain": [
       "Series([], dtype: int64)"
      ]
     },
     "execution_count": 87,
     "metadata": {},
     "output_type": "execute_result"
    }
   ],
   "source": [
    "selected_df.count()"
   ]
  },
  {
   "cell_type": "markdown",
   "id": "b1ef478d-7743-4521-9b6f-f2237e503ce8",
   "metadata": {},
   "source": [
    "<font color=\"red\">Trip ids in actual data and stop_times don't overlap!</color>"
   ]
  },
  {
   "cell_type": "markdown",
   "id": "f6033f46-7699-40f2-abce-9e37d3b39244",
   "metadata": {},
   "source": [
    "# Plot trip"
   ]
  },
  {
   "cell_type": "code",
   "execution_count": 96,
   "id": "fba4e574-f750-424a-9b5d-93dce98d7aae",
   "metadata": {},
   "outputs": [
    {
     "data": {
      "application/vnd.jupyter.widget-view+json": {
       "model_id": "",
       "version_major": 2,
       "version_minor": 0
      },
      "text/plain": [
       "FloatProgress(value=0.0, bar_style='info', description='Progress:', layout=Layout(height='25px', width='50%'),…"
      ]
     },
     "metadata": {},
     "output_type": "display_data"
    },
    {
     "name": "stdout",
     "output_type": "stream",
     "text": [
      "+--------------+---------+------+----------------+-------------------+------------------+-------------------+--------+\n",
      "|       trip_id|stop_name|failed|arrival_schedule|     arrival_actual|departure_schedule|   departure_actual|not_stop|\n",
      "+--------------+---------+------+----------------+-------------------+------------------+-------------------+--------+\n",
      "|  85:11:10:001|Zürich HB| false|15.05.2019 21:50|15.05.2019 21:50:28|                  |                   |   false|\n",
      "|85:11:1007:001|Zürich HB| false|15.05.2019 06:23|15.05.2019 06:23:06|                  |                   |   false|\n",
      "|85:11:1009:001|Zürich HB| false|15.05.2019 07:23|15.05.2019 07:22:45|                  |                   |   false|\n",
      "|85:11:1011:001|Zürich HB| false|15.05.2019 08:23|15.05.2019 08:24:08|                  |                   |   false|\n",
      "|  85:11:11:001|Zürich HB| false|                |                   |  15.05.2019 06:10|15.05.2019 06:11:54|   false|\n",
      "+--------------+---------+------+----------------+-------------------+------------------+-------------------+--------+\n",
      "only showing top 5 rows"
     ]
    },
    {
     "data": {
      "application/vnd.jupyter.widget-view+json": {
       "model_id": "",
       "version_major": 2,
       "version_minor": 0
      },
      "text/plain": [
       "FloatProgress(value=0.0, bar_style='info', description='Progress:', layout=Layout(height='25px', width='50%'),…"
      ]
     },
     "metadata": {},
     "output_type": "display_data"
    }
   ],
   "source": [
    "%%spark -o abb_515_m\n",
    "# only keep necessary data and rename\n",
    "abb_515_m = sbb_515.rdd.map(lambda x:(\n",
    "    x.fahrt_bezeichner,\n",
    "    x.haltestellen_name,\n",
    "    x.faellt_aus_tf,\n",
    "    x.ankunftszeit,\n",
    "    x.an_prognose,\n",
    "    x.abfahrtszeit,\n",
    "    x.ab_prognose,\n",
    "    x.durchfahrt_tf\n",
    "    )).toDF([\"trip_id\",\"stop_name\",\"failed\",\"arrival_schedule\",\"arrival_actual\",\"departure_schedule\",\"departure_actual\",\"not_stop\"])\n",
    "\n",
    "abb_515_m.show(5)"
   ]
  },
  {
   "cell_type": "code",
   "execution_count": 113,
   "id": "9b3104a3-f7e2-4aa5-a4ed-92022ca888df",
   "metadata": {},
   "outputs": [
    {
     "data": {
      "application/vnd.jupyter.widget-view+json": {
       "model_id": "",
       "version_major": 2,
       "version_minor": 0
      },
      "text/plain": [
       "FloatProgress(value=0.0, bar_style='info', description='Progress:', layout=Layout(height='25px', width='50%'),…"
      ]
     },
     "metadata": {},
     "output_type": "display_data"
    },
    {
     "name": "stdout",
     "output_type": "stream",
     "text": [
      "+--------------------+---------+--------+-------+\n",
      "|           stop_name| stop_lat|stop_lon|main_id|\n",
      "+--------------------+---------+--------+-------+\n",
      "|Zimmerberg-Basist...|47.351677|8.521957|    176|\n",
      "|Oetwil a.d.L., Sc...|47.423626|8.403183|8500926|\n",
      "|Zürich Flughafen,...|47.451023|8.563729|8502075|\n",
      "|Dietikon Stoffelbach|47.393326| 8.39896|8502186|\n",
      "|Rudolfstetten Hof...| 47.36467|8.376952|8502187|\n",
      "+--------------------+---------+--------+-------+\n",
      "only showing top 5 rows"
     ]
    },
    {
     "data": {
      "application/vnd.jupyter.widget-view+json": {
       "model_id": "",
       "version_major": 2,
       "version_minor": 0
      },
      "text/plain": [
       "FloatProgress(value=0.0, bar_style='info', description='Progress:', layout=Layout(height='25px', width='50%'),…"
      ]
     },
     "metadata": {},
     "output_type": "display_data"
    }
   ],
   "source": [
    "%%spark -o stops\n",
    "stops.show(5)"
   ]
  },
  {
   "cell_type": "code",
   "execution_count": 105,
   "id": "d7ad42d9-1896-47eb-bb1c-74e71490c037",
   "metadata": {},
   "outputs": [
    {
     "data": {
      "text/plain": [
       "332"
      ]
     },
     "execution_count": 105,
     "metadata": {},
     "output_type": "execute_result"
    }
   ],
   "source": [
    "# prepare data\n",
    "token = \"pk.eyJ1IjoiY29jb251dG51dCIsImEiOiJjbDNscTZhbHowMmxtM2pwajl3Yjd1ejF0In0.PXbwkPmWYXrAhQsus3ypVA\"\n",
    "\n",
    "trip_list = abb_515_m['trip_id'].unique().tolist()\n",
    "trip_list.sort()\n",
    "len(trip_list)"
   ]
  },
  {
   "cell_type": "code",
   "execution_count": 98,
   "id": "aaaaa397-ed2f-4070-87ea-449e386a81a6",
   "metadata": {},
   "outputs": [],
   "source": [
    "import pandas as pd\n",
    "import plotly.express as px\n",
    "import plotly.graph_objects as go\n",
    "import ipywidgets as widgets\n",
    "from ipywidgets import HBox, VBox"
   ]
  },
  {
   "cell_type": "code",
   "execution_count": 118,
   "id": "129716d7-2306-4972-bf8c-e64002fa1fdf",
   "metadata": {
    "tags": []
   },
   "outputs": [
    {
     "data": {
      "application/vnd.jupyter.widget-view+json": {
       "model_id": "461fc320b22d472d82181eebc8114f5d",
       "version_major": 2,
       "version_minor": 0
      },
      "text/plain": [
       "VBox(children=(HBox(children=(Dropdown(description='Stop:', options=('85:11:1007:001', '85:11:1009:001', '85:1…"
      ]
     },
     "metadata": {},
     "output_type": "display_data"
    }
   ],
   "source": [
    "# token = \"pk.eyJ1IjoiY29jb251dG51dCIsImEiOiJjbDNscTZhbHowMmxtM2pwajl3Yjd1ejF0In0.PXbwkPmWYXrAhQsus3ypVA\"\n",
    "# px.set_mapbox_access_token(token)\n",
    "# fig = px.line_mapbox(selected_df, lat=\"stop_lat\", lon=\"stop_lon\", color=\"trip_id\")\n",
    "# fig.show()\n",
    "\n",
    "# figure\n",
    "layout = dict(hovermode='closest',\n",
    "    margin=dict(l=0, t=0, r=0, b=0, pad=0),\n",
    "    mapbox=dict(\n",
    "        accesstoken=token,\n",
    "        bearing=0,\n",
    "        center=go.layout.mapbox.Center(\n",
    "            lat=47.378177,\n",
    "            lon=8.540192\n",
    "        ),\n",
    "        pitch=0,\n",
    "        zoom=10\n",
    "    ))\n",
    "\n",
    "data = go.Scattermapbox(\n",
    "        lat=[],\n",
    "        lon=[],\n",
    "        mode = \"markers+lines\",\n",
    "        marker=go.scattermapbox.Marker(\n",
    "            size=5\n",
    "        ),\n",
    "        text=[]\n",
    "    )\n",
    "\n",
    "\n",
    "figure = go.FigureWidget(data=[data], layout=layout)\n",
    "\n",
    "# update function\n",
    "def f(a):\n",
    "    trip = abb_515_m[abb_515_m['trip_id'] == a]\n",
    "    # get lon and lat\n",
    "    trip = trip.join(stops.set_index('stop_name'), on='stop_name')\n",
    "    \n",
    "    # update figure\n",
    "    with figure.batch_update():\n",
    "        figure.data[0].lat = trip['stop_lat']\n",
    "        figure.data[0].lon = trip['stop_lon']\n",
    "        figure.data[0].text = trip['stop_name']\n",
    "        \n",
    "# widget\n",
    "choose_stop = widgets.Dropdown(\n",
    "    description='Stop:',\n",
    "    options=trip_list\n",
    ")\n",
    "\n",
    "out = widgets.interactive_output(f, {'a': choose_stop})\n",
    "\n",
    "# display\n",
    "VBox([HBox([choose_stop, out]), figure])"
   ]
  },
  {
   "cell_type": "markdown",
   "id": "bc5b4c96-a3fb-4fa7-8d3a-0ada32c31781",
   "metadata": {},
   "source": [
    "# Actural data 514"
   ]
  },
  {
   "cell_type": "code",
   "execution_count": 99,
   "id": "cf07d354-3fef-46e7-be54-6dcecc4447a9",
   "metadata": {},
   "outputs": [
    {
     "data": {
      "application/vnd.jupyter.widget-view+json": {
       "model_id": "",
       "version_major": 2,
       "version_minor": 0
      },
      "text/plain": [
       "FloatProgress(value=0.0, bar_style='info', description='Progress:', layout=Layout(height='25px', width='50%'),…"
      ]
     },
     "metadata": {},
     "output_type": "display_data"
    },
    {
     "name": "stdout",
     "output_type": "stream",
     "text": [
      "root\n",
      " |-- betriebstag: string (nullable = true)\n",
      " |-- fahrt_bezeichner: string (nullable = true)\n",
      " |-- betreiber_id: string (nullable = true)\n",
      " |-- betreiber_abk: string (nullable = true)\n",
      " |-- betreiber_name: string (nullable = true)\n",
      " |-- produkt_id: string (nullable = true)\n",
      " |-- linien_id: string (nullable = true)\n",
      " |-- linien_text: string (nullable = true)\n",
      " |-- umlauf_id: string (nullable = true)\n",
      " |-- verkehrsmittel_text: string (nullable = true)\n",
      " |-- zusatzfahrt_tf: string (nullable = true)\n",
      " |-- faellt_aus_tf: string (nullable = true)\n",
      " |-- bpuic: string (nullable = true)\n",
      " |-- haltestellen_name: string (nullable = true)\n",
      " |-- ankunftszeit: string (nullable = true)\n",
      " |-- an_prognose: string (nullable = true)\n",
      " |-- an_prognose_status: string (nullable = true)\n",
      " |-- abfahrtszeit: string (nullable = true)\n",
      " |-- ab_prognose: string (nullable = true)\n",
      " |-- ab_prognose_status: string (nullable = true)\n",
      " |-- durchfahrt_tf: string (nullable = true)"
     ]
    }
   ],
   "source": [
    "%%spark\n",
    "sbb_514 = spark.read.orc('/data/sbb/orc/istdaten')\n",
    "sbb_514 = sbb_514.filter(sbb_514.betriebstag=='14.05.2019').filter(sbb_514.zusatzfahrt_tf=='false')\n",
    "sbb_514.printSchema()"
   ]
  },
  {
   "cell_type": "code",
   "execution_count": 100,
   "id": "0c9b5c36-3d2b-4382-bb39-a74c3b9e1924",
   "metadata": {},
   "outputs": [
    {
     "data": {
      "application/vnd.jupyter.widget-view+json": {
       "model_id": "",
       "version_major": 2,
       "version_minor": 0
      },
      "text/plain": [
       "FloatProgress(value=0.0, bar_style='info', description='Progress:', layout=Layout(height='25px', width='50%'),…"
      ]
     },
     "metadata": {},
     "output_type": "display_data"
    },
    {
     "name": "stdout",
     "output_type": "stream",
     "text": [
      "10241"
     ]
    }
   ],
   "source": [
    "%%spark\n",
    "stop_name_514 = sbb_514.select('haltestellen_name').distinct()\n",
    "stop_name_514.count()"
   ]
  },
  {
   "cell_type": "code",
   "execution_count": 101,
   "id": "c50bbd5b-4d47-4d03-b802-4b7c672bd99e",
   "metadata": {},
   "outputs": [
    {
     "data": {
      "application/vnd.jupyter.widget-view+json": {
       "model_id": "",
       "version_major": 2,
       "version_minor": 0
      },
      "text/plain": [
       "FloatProgress(value=0.0, bar_style='info', description='Progress:', layout=Layout(height='25px', width='50%'),…"
      ]
     },
     "metadata": {},
     "output_type": "display_data"
    },
    {
     "name": "stdout",
     "output_type": "stream",
     "text": [
      "1413"
     ]
    }
   ],
   "source": [
    "%%spark\n",
    "stop_name_514 = stop_name_514.join(stops, stop_name_514.haltestellen_name==stops.stop_name, \"inner\")\n",
    "stop_name_514.count()"
   ]
  },
  {
   "cell_type": "markdown",
   "id": "fa052cca-73ac-423c-a2d2-3d639f33e5fc",
   "metadata": {},
   "source": [
    "<font color=\"red\">There are 10241 distinct stop names, and 1413 in 15km radius.</font>"
   ]
  },
  {
   "cell_type": "code",
   "execution_count": 102,
   "id": "e7004fdf-041f-4f9d-872b-c375a5662f3a",
   "metadata": {},
   "outputs": [
    {
     "data": {
      "application/vnd.jupyter.widget-view+json": {
       "model_id": "",
       "version_major": 2,
       "version_minor": 0
      },
      "text/plain": [
       "FloatProgress(value=0.0, bar_style='info', description='Progress:', layout=Layout(height='25px', width='50%'),…"
      ]
     },
     "metadata": {},
     "output_type": "display_data"
    },
    {
     "name": "stdout",
     "output_type": "stream",
     "text": [
      "317981"
     ]
    }
   ],
   "source": [
    "%%spark\n",
    "sbb_514 = sbb_514.join(stops, sbb_514.haltestellen_name==stops.stop_name, \"inner\")\n",
    "sbb_514.count()"
   ]
  },
  {
   "cell_type": "code",
   "execution_count": 103,
   "id": "8e71d0b1-655e-4fe8-a415-04182e1ff250",
   "metadata": {},
   "outputs": [
    {
     "data": {
      "application/vnd.jupyter.widget-view+json": {
       "model_id": "",
       "version_major": 2,
       "version_minor": 0
      },
      "text/plain": [
       "FloatProgress(value=0.0, bar_style='info', description='Progress:', layout=Layout(height='25px', width='50%'),…"
      ]
     },
     "metadata": {},
     "output_type": "display_data"
    },
    {
     "name": "stdout",
     "output_type": "stream",
     "text": [
      "1413"
     ]
    }
   ],
   "source": [
    "%%spark\n",
    "sbb_514.select('haltestellen_name').distinct().count()"
   ]
  },
  {
   "cell_type": "code",
   "execution_count": 104,
   "id": "11bee7b0-f960-4853-87e2-a490f3dbc204",
   "metadata": {},
   "outputs": [
    {
     "data": {
      "application/vnd.jupyter.widget-view+json": {
       "model_id": "",
       "version_major": 2,
       "version_minor": 0
      },
      "text/plain": [
       "FloatProgress(value=0.0, bar_style='info', description='Progress:', layout=Layout(height='25px', width='50%'),…"
      ]
     },
     "metadata": {},
     "output_type": "display_data"
    },
    {
     "name": "stdout",
     "output_type": "stream",
     "text": [
      "24438"
     ]
    }
   ],
   "source": [
    "%%spark\n",
    "sbb_514.select('fahrt_bezeichner').distinct().count()"
   ]
  },
  {
   "cell_type": "markdown",
   "id": "b0fc9704-c2d1-4b8d-83e2-bbac949b63af",
   "metadata": {},
   "source": [
    "<font color=\"red\">There are 317981 tuples, 1413 distinct stops, and 24438 distinct trips.</font>"
   ]
  },
  {
   "cell_type": "code",
   "execution_count": 105,
   "id": "6f09deb2-f666-4b25-80d7-53ac719fb5d4",
   "metadata": {},
   "outputs": [
    {
     "data": {
      "application/vnd.jupyter.widget-view+json": {
       "model_id": "",
       "version_major": 2,
       "version_minor": 0
      },
      "text/plain": [
       "FloatProgress(value=0.0, bar_style='info', description='Progress:', layout=Layout(height='25px', width='50%'),…"
      ]
     },
     "metadata": {},
     "output_type": "display_data"
    },
    {
     "name": "stdout",
     "output_type": "stream",
     "text": [
      "+----------+--------------+------+----------------+-------------------+------------------+-------------------+--------+\n",
      "|stop_name2|       trip_id|failed|arrival_schedule|     arrival_actual|departure_schedule|   departure_actual|not_stop|\n",
      "+----------+--------------+------+----------------+-------------------+------------------+-------------------+--------+\n",
      "| Zürich HB|  85:11:10:001| false|14.05.2019 21:50|14.05.2019 21:52:07|                  |                   |   false|\n",
      "| Zürich HB|85:11:1007:001| false|14.05.2019 06:23|14.05.2019 06:22:54|                  |                   |   false|\n",
      "| Zürich HB|85:11:1009:001| false|14.05.2019 07:23|14.05.2019 07:23:39|                  |                   |   false|\n",
      "| Zürich HB|85:11:1011:001| false|14.05.2019 08:23|14.05.2019 08:23:24|                  |                   |   false|\n",
      "| Zürich HB|  85:11:11:001| false|                |                   |  14.05.2019 06:10|14.05.2019 06:11:14|   false|\n",
      "| Zürich HB|  85:11:12:001| false|14.05.2019 10:50|14.05.2019 10:58:00|                  |                   |   false|\n",
      "| Zürich HB|85:11:1251:001| false|14.05.2019 07:00|14.05.2019 07:01:38|                  |                   |   false|\n",
      "| Zürich HB|85:11:1252:002| false|14.05.2019 21:23|14.05.2019 21:23:46|  14.05.2019 21:36|14.05.2019 21:36:59|   false|\n",
      "| Zürich HB|85:11:1255:001| false|14.05.2019 08:26|14.05.2019 08:30:53|  14.05.2019 08:37|14.05.2019 08:40:25|   false|\n",
      "| Zürich HB|85:11:1256:002| false|14.05.2019 17:53|14.05.2019 17:55:34|                  |                   |   false|\n",
      "+----------+--------------+------+----------------+-------------------+------------------+-------------------+--------+\n",
      "only showing top 10 rows"
     ]
    }
   ],
   "source": [
    "%%spark\n",
    "sbb_514_m = sbb_514.select(\"haltestellen_name\", \"fahrt_bezeichner\",\"faellt_aus_tf\",\"ankunftszeit\",\"an_prognose\",\"abfahrtszeit\",\"ab_prognose\",\"durchfahrt_tf\")\n",
    "\n",
    "# rename\n",
    "newColumns = [\"stop_name2\",\"trip_id\",\"failed\",\"arrival_schedule\",\"arrival_actual\",\"departure_schedule\",\"departure_actual\",\"not_stop\"]\n",
    "sbb_514_m = sbb_514_m.toDF(*newColumns)\n",
    "sbb_514_m.show(10)"
   ]
  },
  {
   "cell_type": "code",
   "execution_count": 106,
   "id": "de1a9274-23d9-48ac-8a8e-b4995825a94a",
   "metadata": {},
   "outputs": [
    {
     "data": {
      "application/vnd.jupyter.widget-view+json": {
       "model_id": "",
       "version_major": 2,
       "version_minor": 0
      },
      "text/plain": [
       "FloatProgress(value=0.0, bar_style='info', description='Progress:', layout=Layout(height='25px', width='50%'),…"
      ]
     },
     "metadata": {},
     "output_type": "display_data"
    },
    {
     "name": "stdout",
     "output_type": "stream",
     "text": [
      "317981"
     ]
    }
   ],
   "source": [
    "%%spark\n",
    "# get stop id\n",
    "sbb_514_m = sbb_514_m.join(stops, sbb_514_m.stop_name2==stops.stop_name, \"inner\")\n",
    "sbb_514_m = sbb_514_m.drop(\"stop_name2\")\n",
    "sbb_514_m.count()"
   ]
  },
  {
   "cell_type": "code",
   "execution_count": 107,
   "id": "ad322abf-9287-416c-a9ad-d7834a0d3fb7",
   "metadata": {},
   "outputs": [
    {
     "data": {
      "application/vnd.jupyter.widget-view+json": {
       "model_id": "",
       "version_major": 2,
       "version_minor": 0
      },
      "text/plain": [
       "FloatProgress(value=0.0, bar_style='info', description='Progress:', layout=Layout(height='25px', width='50%'),…"
      ]
     },
     "metadata": {},
     "output_type": "display_data"
    },
    {
     "name": "stdout",
     "output_type": "stream",
     "text": [
      "+--------------+------+----------------+-------------------+------------------+-------------------+--------+---------+---------+--------+-------+\n",
      "|       trip_id|failed|arrival_schedule|     arrival_actual|departure_schedule|   departure_actual|not_stop|stop_name| stop_lat|stop_lon|main_id|\n",
      "+--------------+------+----------------+-------------------+------------------+-------------------+--------+---------+---------+--------+-------+\n",
      "|  85:11:10:001| false|14.05.2019 21:50|14.05.2019 21:52:07|                  |                   |   false|Zürich HB|47.378178|8.540212|8503000|\n",
      "|85:11:1007:001| false|14.05.2019 06:23|14.05.2019 06:22:54|                  |                   |   false|Zürich HB|47.378178|8.540212|8503000|\n",
      "|85:11:1009:001| false|14.05.2019 07:23|14.05.2019 07:23:39|                  |                   |   false|Zürich HB|47.378178|8.540212|8503000|\n",
      "|85:11:1011:001| false|14.05.2019 08:23|14.05.2019 08:23:24|                  |                   |   false|Zürich HB|47.378178|8.540212|8503000|\n",
      "|  85:11:11:001| false|                |                   |  14.05.2019 06:10|14.05.2019 06:11:14|   false|Zürich HB|47.378178|8.540212|8503000|\n",
      "|  85:11:12:001| false|14.05.2019 10:50|14.05.2019 10:58:00|                  |                   |   false|Zürich HB|47.378178|8.540212|8503000|\n",
      "|85:11:1251:001| false|14.05.2019 07:00|14.05.2019 07:01:38|                  |                   |   false|Zürich HB|47.378178|8.540212|8503000|\n",
      "|85:11:1252:002| false|14.05.2019 21:23|14.05.2019 21:23:46|  14.05.2019 21:36|14.05.2019 21:36:59|   false|Zürich HB|47.378178|8.540212|8503000|\n",
      "|85:11:1255:001| false|14.05.2019 08:26|14.05.2019 08:30:53|  14.05.2019 08:37|14.05.2019 08:40:25|   false|Zürich HB|47.378178|8.540212|8503000|\n",
      "|85:11:1256:002| false|14.05.2019 17:53|14.05.2019 17:55:34|                  |                   |   false|Zürich HB|47.378178|8.540212|8503000|\n",
      "+--------------+------+----------------+-------------------+------------------+-------------------+--------+---------+---------+--------+-------+\n",
      "only showing top 10 rows"
     ]
    }
   ],
   "source": [
    "%%spark\n",
    "sbb_514_m.show(10)"
   ]
  },
  {
   "cell_type": "markdown",
   "id": "8a85cc07-6f98-4b2a-8404-b96437006c6e",
   "metadata": {},
   "source": [
    "<font color=\"red\">This is reasonable</font>"
   ]
  },
  {
   "cell_type": "markdown",
   "id": "7580505a-7d84-4cce-a923-47176668fce6",
   "metadata": {},
   "source": [
    "# Get and output data"
   ]
  },
  {
   "cell_type": "code",
   "execution_count": 115,
   "id": "a44a7b19-56f1-4a7f-9cbd-9eaecb73de3b",
   "metadata": {},
   "outputs": [
    {
     "data": {
      "application/vnd.jupyter.widget-view+json": {
       "model_id": "",
       "version_major": 2,
       "version_minor": 0
      },
      "text/plain": [
       "FloatProgress(value=0.0, bar_style='info', description='Progress:', layout=Layout(height='25px', width='50%'),…"
      ]
     },
     "metadata": {},
     "output_type": "display_data"
    }
   ],
   "source": [
    "%%spark\n",
    "def getDataOnDate(date):\n",
    "    # read data\n",
    "    sbb = spark.read.orc('/data/sbb/orc/istdaten')\n",
    "    # filter by date and not additional trip\n",
    "    sbb = sbb.filter(sbb.betriebstag==date).filter(sbb.zusatzfahrt_tf=='false')\n",
    "    # keep stops in 15km radius\n",
    "    sbb = sbb.join(stops, sbb.haltestellen_name==stops.stop_name, \"inner\")\n",
    "    \n",
    "    # select necessary columns\n",
    "    sbb = sbb.select(\"haltestellen_name\", \"fahrt_bezeichner\",\"faellt_aus_tf\",\"ankunftszeit\",\"an_prognose\",\"abfahrtszeit\",\"ab_prognose\",\"durchfahrt_tf\")\n",
    "    # rename\n",
    "    newColumns = [\"stop_name2\",\"trip_id\",\"failed\",\"arrival_schedule\",\"arrival_actual\",\"departure_schedule\",\"departure_actual\",\"not_stop\"]\n",
    "    sbb = sbb.toDF(*newColumns)\n",
    "    \n",
    "    # join and get stop_id\n",
    "    sbb = sbb.join(stops, sbb.stop_name2==stops.stop_name, \"inner\")\n",
    "    sbb = sbb.drop(\"stop_name2\")\n",
    "    sbb = sbb.withColumnRenamed(\"main_id\", \"stop_id\")\n",
    "    \n",
    "    return sbb"
   ]
  },
  {
   "cell_type": "code",
   "execution_count": 127,
   "id": "de31fb62-cbe1-42e2-b1a3-6ff47581a471",
   "metadata": {},
   "outputs": [
    {
     "data": {
      "application/vnd.jupyter.widget-view+json": {
       "model_id": "",
       "version_major": 2,
       "version_minor": 0
      },
      "text/plain": [
       "FloatProgress(value=0.0, bar_style='info', description='Progress:', layout=Layout(height='25px', width='50%'),…"
      ]
     },
     "metadata": {},
     "output_type": "display_data"
    },
    {
     "name": "stdout",
     "output_type": "stream",
     "text": [
      "326126"
     ]
    }
   ],
   "source": [
    "%%spark\n",
    "sbb_517 = getDataOnDate('17.05.2019')\n",
    "sbb_517.count()"
   ]
  },
  {
   "cell_type": "code",
   "execution_count": 128,
   "id": "ddf29324-7ca4-4d50-bc31-7a6a5ef72a8f",
   "metadata": {},
   "outputs": [
    {
     "data": {
      "application/vnd.jupyter.widget-view+json": {
       "model_id": "",
       "version_major": 2,
       "version_minor": 0
      },
      "text/plain": [
       "FloatProgress(value=0.0, bar_style='info', description='Progress:', layout=Layout(height='25px', width='50%'),…"
      ]
     },
     "metadata": {},
     "output_type": "display_data"
    }
   ],
   "source": [
    "%%spark\n",
    "sbb_517.write.option(\"header\",True).csv(\"/user/sixu/work/actual_data_517.csv\")"
   ]
  },
  {
   "cell_type": "code",
   "execution_count": 130,
   "id": "f1bd4018-0cd5-4544-9212-73195ec07161",
   "metadata": {},
   "outputs": [
    {
     "data": {
      "application/vnd.jupyter.widget-view+json": {
       "model_id": "",
       "version_major": 2,
       "version_minor": 0
      },
      "text/plain": [
       "FloatProgress(value=0.0, bar_style='info', description='Progress:', layout=Layout(height='25px', width='50%'),…"
      ]
     },
     "metadata": {},
     "output_type": "display_data"
    },
    {
     "name": "stdout",
     "output_type": "stream",
     "text": [
      "+--------------+------+----------------+-------------------+------------------+-------------------+--------+---------+---------+--------+-------+\n",
      "|       trip_id|failed|arrival_schedule|     arrival_actual|departure_schedule|   departure_actual|not_stop|stop_name| stop_lat|stop_lon|stop_id|\n",
      "+--------------+------+----------------+-------------------+------------------+-------------------+--------+---------+---------+--------+-------+\n",
      "|  85:11:10:001| false|17.05.2019 21:50|17.05.2019 21:51:14|                  |                   |   false|Zürich HB|47.378178|8.540212|8503000|\n",
      "|85:11:1007:001| false|17.05.2019 06:23|17.05.2019 06:23:20|                  |                   |   false|Zürich HB|47.378178|8.540212|8503000|\n",
      "|85:11:1009:001| false|17.05.2019 07:23|17.05.2019 07:23:31|                  |                   |   false|Zürich HB|47.378178|8.540212|8503000|\n",
      "|85:11:1011:001| false|17.05.2019 08:23|17.05.2019 08:24:16|                  |                   |   false|Zürich HB|47.378178|8.540212|8503000|\n",
      "|  85:11:11:001| false|                |                   |  17.05.2019 06:10|17.05.2019 06:11:17|   false|Zürich HB|47.378178|8.540212|8503000|\n",
      "+--------------+------+----------------+-------------------+------------------+-------------------+--------+---------+---------+--------+-------+\n",
      "only showing top 5 rows"
     ]
    }
   ],
   "source": [
    "%%spark\n",
    "sbb_517.show(5)"
   ]
  },
  {
   "cell_type": "code",
   "execution_count": null,
   "id": "2923cfb6-a3d1-4aa3-b103-61075e5e11f7",
   "metadata": {},
   "outputs": [],
   "source": []
  }
 ],
 "metadata": {
  "kernelspec": {
   "display_name": "Python 3",
   "language": "python",
   "name": "python3"
  },
  "language_info": {
   "codemirror_mode": {
    "name": "ipython",
    "version": 3
   },
   "file_extension": ".py",
   "mimetype": "text/x-python",
   "name": "python",
   "nbconvert_exporter": "python",
   "pygments_lexer": "ipython3",
   "version": "3.9.7"
  }
 },
 "nbformat": 4,
 "nbformat_minor": 5
}
