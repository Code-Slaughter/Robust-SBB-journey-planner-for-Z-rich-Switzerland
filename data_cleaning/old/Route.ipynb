{
 "cells": [
  {
   "cell_type": "code",
   "execution_count": 2,
   "id": "6ecb4380-4ffd-477f-ad7c-6b2200405b92",
   "metadata": {},
   "outputs": [],
   "source": [
    "import os\n",
    "import pandas as pd\n",
    "pd.set_option(\"display.max_columns\", 50)\n",
    "import matplotlib.pyplot as plt\n",
    "import warnings\n",
    "warnings.simplefilter(action='ignore', category=UserWarning)\n",
    "%matplotlib inline"
   ]
  },
  {
   "cell_type": "code",
   "execution_count": 3,
   "id": "d121dda7-1bdb-439a-ae24-1eb87c53ddea",
   "metadata": {},
   "outputs": [],
   "source": [
    "from pyhive import hive\n",
    "\n",
    "# Set python variables from environment variables\n",
    "username = os.environ['RENKU_USERNAME']\n",
    "hive_host = os.environ['HIVE_SERVER2'].split(':')[0]\n",
    "hive_port = os.environ['HIVE_SERVER2'].split(':')[1]\n",
    "\n",
    "# create connection\n",
    "conn = hive.connect(host=hive_host,\n",
    "                    port=hive_port,\n",
    "                    username=username) \n",
    "# create cursor\n",
    "cur = conn.cursor()"
   ]
  },
  {
   "cell_type": "code",
   "execution_count": 8,
   "id": "498d0971-5249-4b87-bbff-6385ef00f897",
   "metadata": {},
   "outputs": [],
   "source": [
    "query = \"\"\"\n",
    "    drop table if exists {0}.routes\n",
    "\"\"\".format(username)\n",
    "cur.execute(query)\n",
    "  \n",
    "# `ROUTE_ID`: identifier for the route (PK)\n",
    "# `AGENCY_ID`: identifier of the operator (FK)\n",
    "# `ROUTE_SHORT_NAME`: the short name of the route, usually a line number\n",
    "# `ROUTE_LONG_NAME`: (empty)\n",
    "# `ROUTE_DESC`: _Bus_, _Zub_, _Tram_, etc.\n",
    "# `ROUTE_TYPE`:\n",
    "    \n",
    "query = \"\"\"\n",
    "    create external table {0}.routes(\n",
    "        ROUTE_ID string,\n",
    "        AGENCY_ID string,\n",
    "        ROUTE_SHORT_NAME string,\n",
    "        ROUTE_LONG_NAME string,\n",
    "        ROUTE_DESC string,\n",
    "        ROUTE_TYPE string\n",
    "    )\n",
    "    stored as orc\n",
    "    location '/data/sbb/part_orc/routes'\n",
    "\"\"\".format(username)\n",
    "cur.execute(query)"
   ]
  },
  {
   "cell_type": "code",
   "execution_count": 9,
   "id": "b2523976-aff0-461e-a67a-b136d27713c1",
   "metadata": {},
   "outputs": [],
   "source": [
    "query = \"\"\"\n",
    "    select * from {0}.routes limit 5\n",
    "\"\"\".format(username)\n",
    "df = pd.read_sql(query, conn)"
   ]
  },
  {
   "cell_type": "code",
   "execution_count": 10,
   "id": "2a62dd27-0c30-4ca5-a64f-6e910db61ab5",
   "metadata": {},
   "outputs": [
    {
     "data": {
      "text/html": [
       "<div>\n",
       "<style scoped>\n",
       "    .dataframe tbody tr th:only-of-type {\n",
       "        vertical-align: middle;\n",
       "    }\n",
       "\n",
       "    .dataframe tbody tr th {\n",
       "        vertical-align: top;\n",
       "    }\n",
       "\n",
       "    .dataframe thead th {\n",
       "        text-align: right;\n",
       "    }\n",
       "</style>\n",
       "<table border=\"1\" class=\"dataframe\">\n",
       "  <thead>\n",
       "    <tr style=\"text-align: right;\">\n",
       "      <th></th>\n",
       "      <th>routes.route_id</th>\n",
       "      <th>routes.agency_id</th>\n",
       "      <th>routes.route_short_name</th>\n",
       "      <th>routes.route_long_name</th>\n",
       "      <th>routes.route_desc</th>\n",
       "      <th>routes.route_type</th>\n",
       "    </tr>\n",
       "  </thead>\n",
       "  <tbody>\n",
       "    <tr>\n",
       "      <th>0</th>\n",
       "      <td>11-61-j18-1</td>\n",
       "      <td>7031</td>\n",
       "      <td>061</td>\n",
       "      <td></td>\n",
       "      <td>Bus</td>\n",
       "      <td>700</td>\n",
       "    </tr>\n",
       "    <tr>\n",
       "      <th>1</th>\n",
       "      <td>11-62-j18-1</td>\n",
       "      <td>7031</td>\n",
       "      <td>062</td>\n",
       "      <td></td>\n",
       "      <td>Bus</td>\n",
       "      <td>700</td>\n",
       "    </tr>\n",
       "    <tr>\n",
       "      <th>2</th>\n",
       "      <td>24-64-j18-1</td>\n",
       "      <td>801</td>\n",
       "      <td>064</td>\n",
       "      <td></td>\n",
       "      <td>Bus</td>\n",
       "      <td>700</td>\n",
       "    </tr>\n",
       "    <tr>\n",
       "      <th>3</th>\n",
       "      <td>24-65-j18-1</td>\n",
       "      <td>801</td>\n",
       "      <td>065</td>\n",
       "      <td></td>\n",
       "      <td>Bus</td>\n",
       "      <td>700</td>\n",
       "    </tr>\n",
       "    <tr>\n",
       "      <th>4</th>\n",
       "      <td>24-66-j18-1</td>\n",
       "      <td>801</td>\n",
       "      <td>066</td>\n",
       "      <td></td>\n",
       "      <td>Bus</td>\n",
       "      <td>700</td>\n",
       "    </tr>\n",
       "  </tbody>\n",
       "</table>\n",
       "</div>"
      ],
      "text/plain": [
       "  routes.route_id routes.agency_id routes.route_short_name  \\\n",
       "0     11-61-j18-1             7031                     061   \n",
       "1     11-62-j18-1             7031                     062   \n",
       "2     24-64-j18-1              801                     064   \n",
       "3     24-65-j18-1              801                     065   \n",
       "4     24-66-j18-1              801                     066   \n",
       "\n",
       "  routes.route_long_name routes.route_desc routes.route_type  \n",
       "0                                      Bus               700  \n",
       "1                                      Bus               700  \n",
       "2                                      Bus               700  \n",
       "3                                      Bus               700  \n",
       "4                                      Bus               700  "
      ]
     },
     "execution_count": 10,
     "metadata": {},
     "output_type": "execute_result"
    }
   ],
   "source": [
    "df"
   ]
  },
  {
   "cell_type": "code",
   "execution_count": 12,
   "id": "666b3cbc-90f9-4f51-a2f9-06d7cddb242f",
   "metadata": {},
   "outputs": [],
   "source": [
    "query = \"\"\"\n",
    "    select count(*) from {0}.routes\n",
    "\"\"\".format(username)\n",
    "df = pd.read_sql(query, conn)"
   ]
  },
  {
   "cell_type": "code",
   "execution_count": 13,
   "id": "5a8e4376-1f5d-491a-b312-4fb7449acdda",
   "metadata": {},
   "outputs": [
    {
     "data": {
      "text/html": [
       "<div>\n",
       "<style scoped>\n",
       "    .dataframe tbody tr th:only-of-type {\n",
       "        vertical-align: middle;\n",
       "    }\n",
       "\n",
       "    .dataframe tbody tr th {\n",
       "        vertical-align: top;\n",
       "    }\n",
       "\n",
       "    .dataframe thead th {\n",
       "        text-align: right;\n",
       "    }\n",
       "</style>\n",
       "<table border=\"1\" class=\"dataframe\">\n",
       "  <thead>\n",
       "    <tr style=\"text-align: right;\">\n",
       "      <th></th>\n",
       "      <th>_c0</th>\n",
       "    </tr>\n",
       "  </thead>\n",
       "  <tbody>\n",
       "    <tr>\n",
       "      <th>0</th>\n",
       "      <td>784333</td>\n",
       "    </tr>\n",
       "  </tbody>\n",
       "</table>\n",
       "</div>"
      ],
      "text/plain": [
       "      _c0\n",
       "0  784333"
      ]
     },
     "execution_count": 13,
     "metadata": {},
     "output_type": "execute_result"
    }
   ],
   "source": [
    "df"
   ]
  },
  {
   "cell_type": "code",
   "execution_count": 4,
   "id": "5f7cd1ec-0f4f-475c-a8f2-5ec5916c3a41",
   "metadata": {},
   "outputs": [],
   "source": [
    "query = \"\"\"\n",
    "    drop table if exists {0}.trips\n",
    "\"\"\".format(username)\n",
    "cur.execute(query)\n",
    "\n",
    "# ROUTE_ID: identifier (FK) for the route. A route is a sequence of stops. It is time independent.\n",
    "# SERVICE_ID: identifier (FK) of a group of trips in the calendar, and for managing exceptions (e.g. holidays, etc).\n",
    "# TRIP_ID: is one instance (PK) of a vehicle journey on a given route - the same route can have many trips at regular intervals; a trip may skip some of the route stops.\n",
    "# TRIP_HEADSIGN: displayed to passengers, most of the time this is the (short) name of the last stop.\n",
    "# TRIP_SHORT_NAME: internal identifier for the tripheadsign (note TRIPHEADSIGN and TRIPSHORTNAME are only unique for an agency)\n",
    "# DIRECTION_ID: if the route is bidirectional, this field indicates the direction of the trip on the route.\n",
    "    \n",
    "query = \"\"\"\n",
    "    create external table {0}.trips(\n",
    "        ROUTE_ID string,\n",
    "        SERVICE_ID string,\n",
    "        TRIP_ID string,\n",
    "        TRIP_HEADSIGN string,\n",
    "        TRIP_SHORT_NAME string,\n",
    "        DIRECTION_ID string\n",
    "    )\n",
    "    stored as orc\n",
    "    location '/data/sbb/part_orc/trips'\n",
    "\"\"\".format(username)\n",
    "cur.execute(query)"
   ]
  },
  {
   "cell_type": "code",
   "execution_count": 5,
   "id": "08a06e86-b1a3-4e02-8b0f-27eb751ecf40",
   "metadata": {},
   "outputs": [],
   "source": [
    "query = \"\"\"\n",
    "    select count(*) from {0}.trips\n",
    "\"\"\".format(username)\n",
    "df = pd.read_sql(query, conn)"
   ]
  },
  {
   "cell_type": "code",
   "execution_count": 6,
   "id": "5bb81041-f7e8-47c7-a2a1-aea8f27b9856",
   "metadata": {},
   "outputs": [
    {
     "data": {
      "text/html": [
       "<div>\n",
       "<style scoped>\n",
       "    .dataframe tbody tr th:only-of-type {\n",
       "        vertical-align: middle;\n",
       "    }\n",
       "\n",
       "    .dataframe tbody tr th {\n",
       "        vertical-align: top;\n",
       "    }\n",
       "\n",
       "    .dataframe thead th {\n",
       "        text-align: right;\n",
       "    }\n",
       "</style>\n",
       "<table border=\"1\" class=\"dataframe\">\n",
       "  <thead>\n",
       "    <tr style=\"text-align: right;\">\n",
       "      <th></th>\n",
       "      <th>_c0</th>\n",
       "    </tr>\n",
       "  </thead>\n",
       "  <tbody>\n",
       "    <tr>\n",
       "      <th>0</th>\n",
       "      <td>153793913</td>\n",
       "    </tr>\n",
       "  </tbody>\n",
       "</table>\n",
       "</div>"
      ],
      "text/plain": [
       "         _c0\n",
       "0  153793913"
      ]
     },
     "execution_count": 6,
     "metadata": {},
     "output_type": "execute_result"
    }
   ],
   "source": [
    "df"
   ]
  }
 ],
 "metadata": {
  "kernelspec": {
   "display_name": "Python 3",
   "language": "python",
   "name": "python3"
  },
  "language_info": {
   "codemirror_mode": {
    "name": "ipython",
    "version": 3
   },
   "file_extension": ".py",
   "mimetype": "text/x-python",
   "name": "python",
   "nbconvert_exporter": "python",
   "pygments_lexer": "ipython3",
   "version": "3.9.7"
  }
 },
 "nbformat": 4,
 "nbformat_minor": 5
}
