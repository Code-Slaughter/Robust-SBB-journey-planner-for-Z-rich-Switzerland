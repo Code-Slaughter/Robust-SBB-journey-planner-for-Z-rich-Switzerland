{
 "cells": [
  {
   "cell_type": "code",
   "execution_count": 1,
   "id": "96a6903f-7e24-44b1-97f1-4b06b798110e",
   "metadata": {},
   "outputs": [
    {
     "name": "stdout",
     "output_type": "stream",
     "text": [
      "sixu\n"
     ]
    }
   ],
   "source": [
    "echo ${RENKU_USERNAME}"
   ]
  },
  {
   "cell_type": "markdown",
   "id": "eaf1ef39-6ff3-404f-8031-b8a16e090b3e",
   "metadata": {},
   "source": [
    "# List data on hdfs"
   ]
  },
  {
   "cell_type": "code",
   "execution_count": 2,
   "id": "781e8d9b-423c-4f83-8efb-402f52fd1915",
   "metadata": {},
   "outputs": [
    {
     "name": "stdout",
     "output_type": "stream",
     "text": [
      "Found 1 items\n",
      "-rw-r--r--   3 hdfs hdfs    1337614 2022-03-16 00:53 /data/sbb/orc/allstops/000000_0\n"
     ]
    }
   ],
   "source": [
    "hdfs dfs -ls /data/sbb/orc/allstops"
   ]
  },
  {
   "cell_type": "code",
   "execution_count": 3,
   "id": "546321f7-7a3b-4045-b1e2-c4edc4d4985f",
   "metadata": {},
   "outputs": [
    {
     "name": "stdout",
     "output_type": "stream",
     "text": [
      "1.3 M  3.8 M  /data/sbb/orc/allstops\n"
     ]
    }
   ],
   "source": [
    "hdfs dfs -du -h -s /data/sbb/orc/allstops"
   ]
  },
  {
   "cell_type": "code",
   "execution_count": 4,
   "id": "ba0b985b-223c-4f40-9f60-1c3103afbe89",
   "metadata": {},
   "outputs": [
    {
     "name": "stdout",
     "output_type": "stream",
     "text": [
      "Found 6 items\n",
      "drwxrwxrwx   - hdfs hdfs          0 2022-05-22 02:13 /data/sbb/part_orc/calendar\n",
      "drwxrwxrwx   - hdfs hdfs          0 2022-05-17 20:03 /data/sbb/part_orc/istdaten\n",
      "drwxrwxrwx   - hdfs hdfs          0 2022-05-22 00:28 /data/sbb/part_orc/routes\n",
      "drwxrwxrwx   - hdfs hdfs          0 2022-05-22 07:43 /data/sbb/part_orc/stop_times\n",
      "drwxrwxrwx   - hdfs hdfs          0 2022-05-22 01:20 /data/sbb/part_orc/transfers\n",
      "drwxrwxrwx   - hdfs hdfs          0 2022-05-22 03:26 /data/sbb/part_orc/trips\n"
     ]
    }
   ],
   "source": [
    "hdfs dfs -ls /data/sbb/part_orc"
   ]
  },
  {
   "cell_type": "code",
   "execution_count": 5,
   "id": "d76c0c84-ed7d-405e-813c-ca05bb0331cb",
   "metadata": {},
   "outputs": [
    {
     "name": "stdout",
     "output_type": "stream",
     "text": [
      "Found 5 items\n",
      "drwxrwxrwt   - hdfs hdfs          0 2022-03-30 20:19 /data/sbb/part_orc/istdaten/year=2018\n",
      "drwxrwxrwt   - hdfs hdfs          0 2022-03-30 20:19 /data/sbb/part_orc/istdaten/year=2019\n",
      "drwxrwxrwt   - hdfs hdfs          0 2022-03-30 20:19 /data/sbb/part_orc/istdaten/year=2020\n",
      "drwxrwxrwt   - hdfs hdfs          0 2022-03-31 18:30 /data/sbb/part_orc/istdaten/year=2021\n",
      "drwxrwxrwt   - hdfs hdfs          0 2022-03-30 20:19 /data/sbb/part_orc/istdaten/year=__HIVE_DEFAULT_PARTITION__\n"
     ]
    }
   ],
   "source": [
    "hdfs dfs -ls /data/sbb/part_orc/istdaten"
   ]
  },
  {
   "cell_type": "code",
   "execution_count": 6,
   "id": "f444b2d3-1983-4a3b-b516-756f9c0159ae",
   "metadata": {},
   "outputs": [
    {
     "name": "stdout",
     "output_type": "stream",
     "text": [
      "25.5 G  76.6 G  /data/sbb/part_orc/istdaten\n"
     ]
    }
   ],
   "source": [
    "hdfs dfs -du -h -s /data/sbb/part_orc/istdaten"
   ]
  },
  {
   "cell_type": "code",
   "execution_count": 8,
   "id": "580a180c-5a51-4caf-90f5-0713671205f8",
   "metadata": {},
   "outputs": [
    {
     "name": "stdout",
     "output_type": "stream",
     "text": [
      "6.9 M  20.8 M  /data/sbb/part_orc/routes\n"
     ]
    }
   ],
   "source": [
    "hdfs dfs -du -h -s /data/sbb/part_orc/routes"
   ]
  },
  {
   "cell_type": "markdown",
   "id": "ca90f05e-a57b-47d8-90b0-8500169ffeb4",
   "metadata": {},
   "source": [
    "# Upload file"
   ]
  },
  {
   "cell_type": "code",
   "execution_count": 2,
   "id": "4d8d1d8c-83cb-4012-a09b-3203d50ec2cc",
   "metadata": {},
   "outputs": [
    {
     "name": "stdout",
     "output_type": "stream",
     "text": [
      "Found 5 items\n",
      "drwx------+  - sixu hadoop          0 2022-05-23 00:00 /user/sixu/.Trash\n",
      "drwxr-x---+  - sixu hadoop          0 2022-03-19 10:04 /user/sixu/.hiveJars\n",
      "drwxr-x---+  - eric hadoop          0 2022-05-13 16:08 /user/sixu/checkpoint\n",
      "drwxrwx---+  - sixu hadoop          0 2022-05-22 13:08 /user/sixu/hive\n",
      "drwxr-x---+  - sixu hadoop          0 2022-05-25 20:10 /user/sixu/work\n"
     ]
    }
   ],
   "source": [
    "hdfs dfs -ls /user/${RENKU_USERNAME}"
   ]
  },
  {
   "cell_type": "code",
   "execution_count": null,
   "id": "20607404-e0fc-421f-8848-576a2edca51d",
   "metadata": {},
   "outputs": [],
   "source": [
    "hdfs dfs -rm -r -skipTrash /user/${RENKU_USERNAME:-nouser}/work"
   ]
  },
  {
   "cell_type": "code",
   "execution_count": 13,
   "id": "b4363e34-e5a0-4bed-84df-84aa79c5de52",
   "metadata": {},
   "outputs": [],
   "source": [
    "hdfs dfs -mkdir -p /user/${RENKU_USERNAME}/work/"
   ]
  },
  {
   "cell_type": "code",
   "execution_count": 6,
   "id": "9add93b2-e18d-487d-a310-e761b1fd46f8",
   "metadata": {},
   "outputs": [
    {
     "name": "stdout",
     "output_type": "stream",
     "text": [
      "Deleted /user/sixu/work/stops_main.csv\n"
     ]
    }
   ],
   "source": [
    "hdfs dfs -rm -r -skipTrash /user/${RENKU_USERNAME:-nouser}/work/stops_main.csv"
   ]
  },
  {
   "cell_type": "code",
   "execution_count": 7,
   "id": "511af04a-94e9-45e3-bc6d-f2c43606f195",
   "metadata": {},
   "outputs": [],
   "source": [
    "hadoop fs -put stops_main.csv /user/${RENKU_USERNAME:-nouser}/work"
   ]
  },
  {
   "cell_type": "code",
   "execution_count": 13,
   "id": "9bce6a55-be06-4f80-a2b6-45b4a638e1f7",
   "metadata": {},
   "outputs": [
    {
     "name": "stdout",
     "output_type": "stream",
     "text": [
      "Found 11 items\n",
      "drwxr-x---+  - eric hadoop          0 2022-05-27 15:32 /user/sixu/work/actual_data_513.csv\n",
      "drwxr-x---+  - eric hadoop          0 2022-05-27 15:29 /user/sixu/work/actual_data_514.csv\n",
      "drwxr-x---+  - eric hadoop          0 2022-05-27 15:32 /user/sixu/work/actual_data_515.csv\n",
      "drwxr-x---+  - eric hadoop          0 2022-05-27 15:33 /user/sixu/work/actual_data_516.csv\n",
      "drwxr-x---+  - eric hadoop          0 2022-05-27 15:33 /user/sixu/work/actual_data_517.csv\n",
      "drwxr-x---+  - eric hadoop          0 2022-05-26 15:23 /user/sixu/work/data_515.csv\n",
      "drwxr-x---+  - eric hadoop          0 2022-05-26 10:24 /user/sixu/work/stop_times_515_in_radius.csv\n",
      "drwxr-x---+  - eric hadoop          0 2022-05-26 12:17 /user/sixu/work/stop_times_515_in_radius_01.csv\n",
      "drwxr-x---+  - eric hadoop          0 2022-05-27 10:25 /user/sixu/work/stop_times_515_main.csv\n",
      "-rw-r-----   3 sixu hadoop     113907 2022-05-26 10:39 /user/sixu/work/stops_in_radius.csv\n",
      "-rw-r-----   3 sixu hadoop      86701 2022-05-27 09:40 /user/sixu/work/stops_main.csv\n"
     ]
    }
   ],
   "source": [
    "hdfs dfs -ls /user/${RENKU_USERNAME}/work"
   ]
  },
  {
   "cell_type": "code",
   "execution_count": null,
   "id": "b35041b2-1994-430c-80d1-12c537d6f6cc",
   "metadata": {},
   "outputs": [],
   "source": []
  }
 ],
 "metadata": {
  "kernelspec": {
   "display_name": "Bash",
   "language": "bash",
   "name": "bash"
  },
  "language_info": {
   "codemirror_mode": "shell",
   "file_extension": ".sh",
   "mimetype": "text/x-sh",
   "name": "bash"
  }
 },
 "nbformat": 4,
 "nbformat_minor": 5
}
